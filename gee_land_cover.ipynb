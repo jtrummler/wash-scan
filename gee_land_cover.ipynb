{
 "cells": [
  {
   "cell_type": "code",
   "execution_count": 40,
   "metadata": {},
   "outputs": [],
   "source": [
    "import geemap\n",
    "import ee\n",
    "import folium\n",
    "import geopandas as gpd"
   ]
  },
  {
   "cell_type": "code",
   "execution_count": 41,
   "metadata": {},
   "outputs": [],
   "source": [
    "ee.Initialize()"
   ]
  },
  {
   "cell_type": "code",
   "execution_count": 61,
   "metadata": {},
   "outputs": [
    {
     "data": {
      "application/vnd.jupyter.widget-view+json": {
       "model_id": "7319d0b609f648c9b74211745a3fd77d",
       "version_major": 2,
       "version_minor": 0
      },
      "text/plain": [
       "Map(center=[-8.980207755364754, 13.310742868350161], controls=(WidgetControl(options=['position', 'transparent…"
      ]
     },
     "execution_count": 61,
     "metadata": {},
     "output_type": "execute_result"
    }
   ],
   "source": [
    "datadir = 'C:/Users/jtrum/world_bank/data/'\n",
    "\n",
    "# Define the path to your GeoJSON file\n",
    "aoi_path = datadir + 'luanda2clean.geojson'\n",
    "\n",
    "# Load the GeoJSON as a Feature\n",
    "aoi = geemap.geojson_to_ee(aoi_path)\n",
    "\n",
    "# Create a map\n",
    "Map = geemap.Map()\n",
    "#choose a different basemap\n",
    "Map.add_basemap('CartoDB.DarkMatter')\n",
    "\n",
    "# Load the ESA Land Cover data\n",
    "esa = ee.ImageCollection(\"ESA/WorldCover/v100\").first()\n",
    "\n",
    "# Filter the data to your AOI\n",
    "esa = esa.clip(aoi)\n",
    "\n",
    "esa_vis = {'bands': ['Map']}\n",
    "\n",
    "# Add the ESA Land Cover layer to the map\n",
    "Map.addLayer(esa, esa_vis, \"ESA Land Cover\")\n",
    "\n",
    "# add legend with colors chosen from self-defined palette\n",
    "Map.add_legend(builtin_legend='ESA_WorldCover', \n",
    "               #legend_title=\"ESA Land Cover\", \n",
    "               #layer_name=\"ESA Land Cover\", \n",
    "               colors=['#05450a', '#086a10', '#54a708', '#78d203', '#009900', '#c6b044', '#dcd159', '#dade48', '#fbff13','#d5n5n5', '#129279'],\n",
    "               labels=['trees', 'shrublands', 'grasslands', 'croplands', 'built-up', 'bare', 'snow and ice', 'water bodies', 'herbaceous vegetation', 'mangroves', 'moss and lichen']\n",
    "               )\n",
    "\n",
    "\n",
    "#start the zoom at the center of the AOI\n",
    "Map.centerObject(aoi, 10)\n",
    "\n",
    "\n",
    "\n",
    "# Display the map\n",
    "Map\n"
   ]
  },
  {
   "cell_type": "code",
   "execution_count": 62,
   "metadata": {},
   "outputs": [
    {
     "name": "stdout",
     "output_type": "stream",
     "text": [
      "Calculating area for group 10 ...\n",
      "Calculating area for group 20 ...\n",
      "Calculating area for group 30 ...\n",
      "Calculating area for group 40 ...\n",
      "Calculating area for group 50 ...\n",
      "Calculating area for group 60 ...\n",
      "Calculating area for group 80 ...\n",
      "Calculating area for group 90 ...\n",
      "Calculating area for group 95 ...\n"
     ]
    }
   ],
   "source": [
    "df = geemap.image_area_by_group(esa, scale=1000, denominator=1e6, decimal_places=4, verbose=True)"
   ]
  },
  {
   "cell_type": "code",
   "execution_count": 36,
   "metadata": {},
   "outputs": [
    {
     "data": {
      "text/plain": [
       "area          float64\n",
       "percentage    float64\n",
       "dtype: object"
      ]
     },
     "execution_count": 36,
     "metadata": {},
     "output_type": "execute_result"
    }
   ],
   "source": [
    "df.dtypes"
   ]
  },
  {
   "cell_type": "code",
   "execution_count": null,
   "metadata": {},
   "outputs": [],
   "source": []
  },
  {
   "cell_type": "code",
   "execution_count": 63,
   "metadata": {},
   "outputs": [
    {
     "data": {
      "text/html": [
       "<div>\n",
       "<style scoped>\n",
       "    .dataframe tbody tr th:only-of-type {\n",
       "        vertical-align: middle;\n",
       "    }\n",
       "\n",
       "    .dataframe tbody tr th {\n",
       "        vertical-align: top;\n",
       "    }\n",
       "\n",
       "    .dataframe thead th {\n",
       "        text-align: right;\n",
       "    }\n",
       "</style>\n",
       "<table border=\"1\" class=\"dataframe\">\n",
       "  <thead>\n",
       "    <tr style=\"text-align: right;\">\n",
       "      <th></th>\n",
       "      <th>type</th>\n",
       "      <th>area</th>\n",
       "      <th>percentage</th>\n",
       "    </tr>\n",
       "  </thead>\n",
       "  <tbody>\n",
       "    <tr>\n",
       "      <th>0</th>\n",
       "      <td>Trees</td>\n",
       "      <td>42.6993</td>\n",
       "      <td>1.75</td>\n",
       "    </tr>\n",
       "    <tr>\n",
       "      <th>1</th>\n",
       "      <td>Shrublands</td>\n",
       "      <td>10.7903</td>\n",
       "      <td>0.44</td>\n",
       "    </tr>\n",
       "    <tr>\n",
       "      <th>2</th>\n",
       "      <td>Grasslands</td>\n",
       "      <td>1460.9425</td>\n",
       "      <td>59.87</td>\n",
       "    </tr>\n",
       "    <tr>\n",
       "      <th>3</th>\n",
       "      <td>Croplands</td>\n",
       "      <td>6.7740</td>\n",
       "      <td>0.28</td>\n",
       "    </tr>\n",
       "    <tr>\n",
       "      <th>4</th>\n",
       "      <td>Built-Up</td>\n",
       "      <td>505.1714</td>\n",
       "      <td>20.70</td>\n",
       "    </tr>\n",
       "    <tr>\n",
       "      <th>5</th>\n",
       "      <td>Barren</td>\n",
       "      <td>135.6323</td>\n",
       "      <td>5.56</td>\n",
       "    </tr>\n",
       "    <tr>\n",
       "      <th>6</th>\n",
       "      <td>Water Bodies</td>\n",
       "      <td>37.0484</td>\n",
       "      <td>1.52</td>\n",
       "    </tr>\n",
       "    <tr>\n",
       "      <th>7</th>\n",
       "      <td>Herbaceous Wetlands</td>\n",
       "      <td>195.5900</td>\n",
       "      <td>8.02</td>\n",
       "    </tr>\n",
       "    <tr>\n",
       "      <th>8</th>\n",
       "      <td>Mangroves</td>\n",
       "      <td>45.3820</td>\n",
       "      <td>1.86</td>\n",
       "    </tr>\n",
       "  </tbody>\n",
       "</table>\n",
       "</div>"
      ],
      "text/plain": [
       "                  type       area  percentage\n",
       "0                Trees    42.6993        1.75\n",
       "1           Shrublands    10.7903        0.44\n",
       "2           Grasslands  1460.9425       59.87\n",
       "3            Croplands     6.7740        0.28\n",
       "4             Built-Up   505.1714       20.70\n",
       "5               Barren   135.6323        5.56\n",
       "6         Water Bodies    37.0484        1.52\n",
       "7  Herbaceous Wetlands   195.5900        8.02\n",
       "8            Mangroves    45.3820        1.86"
      ]
     },
     "execution_count": 63,
     "metadata": {},
     "output_type": "execute_result"
    }
   ],
   "source": [
    "df['percentage'] = df['percentage']*100\n",
    "\n",
    "# reset the index and rename the columns to be the name of the Land Cover Type\n",
    "df = df.reset_index().rename(columns={'group': 'type'})\n",
    "\n",
    "\n",
    "# Create a mapping dictionary with numbers as strings\n",
    "type_mapping = {\n",
    "    '10': 'Trees',\n",
    "    '20': 'Shrublands',\n",
    "    '30': 'Grasslands',\n",
    "    '40': 'Croplands',\n",
    "    '50': 'Built-Up',\n",
    "    '60': 'Barren',\n",
    "    '70': 'Snow and Ice',\n",
    "    '80': 'Water Bodies',\n",
    "    '90': 'Herbaceous Wetlands',\n",
    "    '95': 'Mangroves',\n",
    "    '100': 'Moss and Lichen'\n",
    "}\n",
    "\n",
    "# Use the mapping dictionary to replace values in the 'type' column\n",
    "df['type'] = df['type'].replace(type_mapping)\n",
    "df\n",
    "                                "
   ]
  },
  {
   "cell_type": "code",
   "execution_count": 114,
   "metadata": {},
   "outputs": [
    {
     "data": {
      "image/png": "[encoded data removed]",
      "text/plain": [
       "<Figure size 1000x1000 with 1 Axes>"
      ]
     },
     "metadata": {},
     "output_type": "display_data"
    }
   ],
   "source": [
    "import pandas as pd\n",
    "import matplotlib.pyplot as plt\n",
    "import seaborn as sns\n",
    "\n",
    "# Make a color dictionary of the colors from the ESA Land Cover legend\n",
    "color_dict = {\n",
    "    'Trees': '#006400',\n",
    "    'Shrublands': '#FFBB22',\n",
    "    'Grasslands': '#FFFF4C',\n",
    "    'Croplands': '#F096FF',\n",
    "    'Built-Up': '#FA0000',\n",
    "    'Barren': '#B4B4B4',\n",
    "    'Snow and Ice': '#F0F0F0',\n",
    "    'Water Bodies': '#0064C8',\n",
    "    'Herbaceous Wetlands': '#0096A0',\n",
    "    'Mangroves': '#00CF75',\n",
    "    'Moss and Lichen': '#FAE6A0'\n",
    "}\n",
    "\n",
    "# Sort the DataFrame by percentage in descending order\n",
    "df = df.sort_values('percentage', ascending=False)\n",
    "\n",
    "# Set the figure size\n",
    "plt.figure(figsize=(10, 10))\n",
    "\n",
    "# Create the barplot\n",
    "sns.barplot(x='percentage', y='type', data=df, palette=color_dict)\n",
    "\n",
    "# Add labels at the end of each bar\n",
    "for i, v in enumerate(df['percentage']):\n",
    "    plt.text(v + 1, i, str(round(v, 2)) + '%', va='center', color='black', fontweight='bold')\n",
    "\n",
    "# Customize labels and title\n",
    "plt.xlabel('Percentage')\n",
    "plt.ylabel('Land Cover Type')\n",
    "plt.title('Land Cover in Luanda, Angola')\n",
    "\n",
    "# Show the plot\n",
    "plt.show()"
   ]
  },
  {
   "cell_type": "code",
   "execution_count": 81,
   "metadata": {},
   "outputs": [
    {
     "ename": "EEException",
     "evalue": "Image.load: Asset 'COPERNICUS/S1_GRD' is not an Image.",
     "output_type": "error",
     "traceback": [
      "\u001b[1;31m---------------------------------------------------------------------------\u001b[0m",
      "\u001b[1;31mHttpError\u001b[0m                                 Traceback (most recent call last)",
      "File \u001b[1;32mc:\\Users\\jtrum\\miniconda3\\envs\\wash_scan\\lib\\site-packages\\ee\\data.py:352\u001b[0m, in \u001b[0;36m_execute_cloud_call\u001b[1;34m(call, num_retries)\u001b[0m\n\u001b[0;32m    351\u001b[0m \u001b[39mtry\u001b[39;00m:\n\u001b[1;32m--> 352\u001b[0m   \u001b[39mreturn\u001b[39;00m call\u001b[39m.\u001b[39;49mexecute(num_retries\u001b[39m=\u001b[39;49mnum_retries)\n\u001b[0;32m    353\u001b[0m \u001b[39mexcept\u001b[39;00m googleapiclient\u001b[39m.\u001b[39merrors\u001b[39m.\u001b[39mHttpError \u001b[39mas\u001b[39;00m e:\n",
      "File \u001b[1;32mc:\\Users\\jtrum\\miniconda3\\envs\\wash_scan\\lib\\site-packages\\googleapiclient\\_helpers.py:130\u001b[0m, in \u001b[0;36mpositional.<locals>.positional_decorator.<locals>.positional_wrapper\u001b[1;34m(*args, **kwargs)\u001b[0m\n\u001b[0;32m    129\u001b[0m         logger\u001b[39m.\u001b[39mwarning(message)\n\u001b[1;32m--> 130\u001b[0m \u001b[39mreturn\u001b[39;00m wrapped(\u001b[39m*\u001b[39;49margs, \u001b[39m*\u001b[39;49m\u001b[39m*\u001b[39;49mkwargs)\n",
      "File \u001b[1;32mc:\\Users\\jtrum\\miniconda3\\envs\\wash_scan\\lib\\site-packages\\googleapiclient\\http.py:938\u001b[0m, in \u001b[0;36mHttpRequest.execute\u001b[1;34m(self, http, num_retries)\u001b[0m\n\u001b[0;32m    937\u001b[0m \u001b[39mif\u001b[39;00m resp\u001b[39m.\u001b[39mstatus \u001b[39m>\u001b[39m\u001b[39m=\u001b[39m \u001b[39m300\u001b[39m:\n\u001b[1;32m--> 938\u001b[0m     \u001b[39mraise\u001b[39;00m HttpError(resp, content, uri\u001b[39m=\u001b[39m\u001b[39mself\u001b[39m\u001b[39m.\u001b[39muri)\n\u001b[0;32m    939\u001b[0m \u001b[39mreturn\u001b[39;00m \u001b[39mself\u001b[39m\u001b[39m.\u001b[39mpostproc(resp, content)\n",
      "\u001b[1;31mHttpError\u001b[0m: <HttpError 400 when requesting https://earthengine.googleapis.com/v1/projects/earthengine-legacy/value:compute?prettyPrint=false&alt=json returned \"Image.load: Asset 'COPERNICUS/S1_GRD' is not an Image.\". Details: \"Image.load: Asset 'COPERNICUS/S1_GRD' is not an Image.\">",
      "\nDuring handling of the above exception, another exception occurred:\n",
      "\u001b[1;31mEEException\u001b[0m                               Traceback (most recent call last)",
      "Cell \u001b[1;32mIn[81], line 64\u001b[0m\n\u001b[0;32m     52\u001b[0m UpperThreshold \u001b[39m=\u001b[39m (difference_smoothed_resampled\n\u001b[0;32m     53\u001b[0m                   \u001b[39m.\u001b[39mreduceRegion(reducer\u001b[39m=\u001b[39mee\u001b[39m.\u001b[39mReducer\u001b[39m.\u001b[39mpercentile([\u001b[39m6\u001b[39m]),\n\u001b[0;32m     54\u001b[0m                                 geometry\u001b[39m=\u001b[39mLuanda_Extent,\n\u001b[0;32m     55\u001b[0m                                 scale\u001b[39m=\u001b[39m\u001b[39m10\u001b[39m,\n\u001b[0;32m     56\u001b[0m                                 maxPixels\u001b[39m=\u001b[39m\u001b[39m1e9\u001b[39m)\n\u001b[0;32m     57\u001b[0m                   \u001b[39m.\u001b[39mget(\u001b[39m'\u001b[39m\u001b[39mVV\u001b[39m\u001b[39m'\u001b[39m))\n\u001b[0;32m     58\u001b[0m LowerThreshold \u001b[39m=\u001b[39m (difference_smoothed_resampled\n\u001b[0;32m     59\u001b[0m                   \u001b[39m.\u001b[39mreduceRegion(reducer\u001b[39m=\u001b[39mee\u001b[39m.\u001b[39mReducer\u001b[39m.\u001b[39mpercentile([\u001b[39m94\u001b[39m]),\n\u001b[0;32m     60\u001b[0m                                 geometry\u001b[39m=\u001b[39mLuanda_Extent,\n\u001b[0;32m     61\u001b[0m                                 scale\u001b[39m=\u001b[39m\u001b[39m10\u001b[39m,\n\u001b[0;32m     62\u001b[0m                                 maxPixels\u001b[39m=\u001b[39m\u001b[39m1e9\u001b[39m)\n\u001b[0;32m     63\u001b[0m                   \u001b[39m.\u001b[39mget(\u001b[39m'\u001b[39m\u001b[39mVV\u001b[39m\u001b[39m'\u001b[39m))\n\u001b[1;32m---> 64\u001b[0m \u001b[39mprint\u001b[39m(UpperThreshold\u001b[39m.\u001b[39;49mgetInfo())\n\u001b[0;32m     65\u001b[0m \u001b[39mprint\u001b[39m(LowerThreshold\u001b[39m.\u001b[39mgetInfo())\n\u001b[0;32m     66\u001b[0m \u001b[39m# Make Difference Darker Rasters\u001b[39;00m\n",
      "File \u001b[1;32mc:\\Users\\jtrum\\miniconda3\\envs\\wash_scan\\lib\\site-packages\\ee\\computedobject.py:103\u001b[0m, in \u001b[0;36mComputedObject.getInfo\u001b[1;34m(self)\u001b[0m\n\u001b[0;32m     97\u001b[0m \u001b[39mdef\u001b[39;00m \u001b[39mgetInfo\u001b[39m(\u001b[39mself\u001b[39m) \u001b[39m-\u001b[39m\u001b[39m>\u001b[39m Optional[Any]:\n\u001b[0;32m     98\u001b[0m \u001b[39m  \u001b[39m\u001b[39m\"\"\"Fetch and return information about this object.\u001b[39;00m\n\u001b[0;32m     99\u001b[0m \n\u001b[0;32m    100\u001b[0m \u001b[39m  Returns:\u001b[39;00m\n\u001b[0;32m    101\u001b[0m \u001b[39m    The object can evaluate to anything.\u001b[39;00m\n\u001b[0;32m    102\u001b[0m \u001b[39m  \"\"\"\u001b[39;00m\n\u001b[1;32m--> 103\u001b[0m   \u001b[39mreturn\u001b[39;00m data\u001b[39m.\u001b[39;49mcomputeValue(\u001b[39mself\u001b[39;49m)\n",
      "File \u001b[1;32mc:\\Users\\jtrum\\miniconda3\\envs\\wash_scan\\lib\\site-packages\\ee\\data.py:971\u001b[0m, in \u001b[0;36mcomputeValue\u001b[1;34m(obj)\u001b[0m\n\u001b[0;32m    968\u001b[0m body \u001b[39m=\u001b[39m {\u001b[39m'\u001b[39m\u001b[39mexpression\u001b[39m\u001b[39m'\u001b[39m: serializer\u001b[39m.\u001b[39mencode(obj, for_cloud_api\u001b[39m=\u001b[39m\u001b[39mTrue\u001b[39;00m)}\n\u001b[0;32m    969\u001b[0m _maybe_populate_workload_tag(body)\n\u001b[1;32m--> 971\u001b[0m \u001b[39mreturn\u001b[39;00m _execute_cloud_call(\n\u001b[0;32m    972\u001b[0m     _get_cloud_projects()\n\u001b[0;32m    973\u001b[0m     \u001b[39m.\u001b[39;49mvalue()\n\u001b[0;32m    974\u001b[0m     \u001b[39m.\u001b[39;49mcompute(body\u001b[39m=\u001b[39;49mbody, project\u001b[39m=\u001b[39;49m_get_projects_path(), prettyPrint\u001b[39m=\u001b[39;49m\u001b[39mFalse\u001b[39;49;00m)\n\u001b[0;32m    975\u001b[0m )[\u001b[39m'\u001b[39m\u001b[39mresult\u001b[39m\u001b[39m'\u001b[39m]\n",
      "File \u001b[1;32mc:\\Users\\jtrum\\miniconda3\\envs\\wash_scan\\lib\\site-packages\\ee\\data.py:354\u001b[0m, in \u001b[0;36m_execute_cloud_call\u001b[1;34m(call, num_retries)\u001b[0m\n\u001b[0;32m    352\u001b[0m   \u001b[39mreturn\u001b[39;00m call\u001b[39m.\u001b[39mexecute(num_retries\u001b[39m=\u001b[39mnum_retries)\n\u001b[0;32m    353\u001b[0m \u001b[39mexcept\u001b[39;00m googleapiclient\u001b[39m.\u001b[39merrors\u001b[39m.\u001b[39mHttpError \u001b[39mas\u001b[39;00m e:\n\u001b[1;32m--> 354\u001b[0m   \u001b[39mraise\u001b[39;00m _translate_cloud_exception(e)\n",
      "\u001b[1;31mEEException\u001b[0m: Image.load: Asset 'COPERNICUS/S1_GRD' is not an Image."
     ]
    }
   ],
   "source": [
    "# Define the location (Luanda, Angola) and Area of Interest (AOI)\n",
    "# Replace the coordinates in the Point and Polygon geometries with those for Luanda, Angola.\n",
    "Luanda = ee.Geometry.Point([13.2343, -8.8383])\n",
    "Luanda_Extent = ee.Geometry.Polygon(\n",
    "    [[[13.1643, -8.9421],\n",
    "      [13.1643, -8.7278],\n",
    "      [13.3597, -8.7278],\n",
    "      [13.3597, -8.9421]]])\n",
    "# Define the city name and convert it to lowercase\n",
    "city_name = \"Luanda\"\n",
    "id = \"Luanda\"\n",
    "# Create Water Mask\n",
    "WaterMask = ee.Image('COPERNICUS/S1_GRD')\n",
    "waterMask = WaterMask.select('transition')\n",
    "blank = ee.Image(0)\n",
    "nonWater = blank.addBands(waterMask).unmask().select('transition').eq(0).rename('non_water')\n",
    "# Create Slope Mask\n",
    "srtm = ee.Image('USGS/SRTMGL1_003')\n",
    "slope = ee.Terrain.slope(srtm)\n",
    "Grade15 = slope.gt(15)\n",
    "gtGrade15 = Grade15.updateMask(Grade15.neq(0))\n",
    "slopeMask = gtGrade15.clip(Luanda_Extent).unmask(0).subtract(1).multiply(-1)\n",
    "# Load Sentinel-1 C-band SAR Ground Range collection (log scaling, VV co-polar)\n",
    "collection = (ee.ImageCollection('COPERNICUS/S1_GRD')\n",
    "              .filterBounds(Luanda)\n",
    "              .filter(ee.Filter.listContains('transmitterReceiverPolarisation', 'VV'))\n",
    "              .filter(ee.Filter.eq('orbitProperties_pass', 'DESCENDING'))\n",
    "              .select('VV'))\n",
    "# Filter by date\n",
    "during_flood_collection = collection.filterDate('2017-03-14', '2017-03-29')\n",
    "during_flood = (during_flood_collection.first()\n",
    "                .clip(Luanda_Extent)\n",
    "                .updateMask(nonWater)\n",
    "                .updateMask(slopeMask))\n",
    "before_flood_collection = collection.filterDate('2016-08-01', '2016-09-30')\n",
    "before_flood = (before_flood_collection.median()\n",
    "                .clip(Luanda_Extent)\n",
    "                .updateMask(nonWater)\n",
    "                .updateMask(slopeMask))\n",
    "# Define a smoothing box (30m is 3x size of S1 pixel)\n",
    "smoothing_box = 30\n",
    "# Create difference images (during flood - before flood)\n",
    "difference_smoothed = (during_flood\n",
    "                       .focal_median(smoothing_box, 'square', 'meters')\n",
    "                       .subtract(before_flood.focal_median(smoothing_box, 'square', 'meters')))\n",
    "difference_raw = during_flood.subtract(before_flood)\n",
    "# Resample difference raster\n",
    "difference_smoothed_resampled = (difference_smoothed\n",
    "                                 .resample('bilinear')\n",
    "                                 .reproject(crs=difference_smoothed.projection()))\n",
    "# Calculate Upper and Lower Thresholds\n",
    "UpperThreshold = (difference_smoothed_resampled\n",
    "                  .reduceRegion(reducer=ee.Reducer.percentile([6]),\n",
    "                                geometry=Luanda_Extent,\n",
    "                                scale=10,\n",
    "                                maxPixels=1e9)\n",
    "                  .get('VV'))\n",
    "LowerThreshold = (difference_smoothed_resampled\n",
    "                  .reduceRegion(reducer=ee.Reducer.percentile([94]),\n",
    "                                geometry=Luanda_Extent,\n",
    "                                scale=10,\n",
    "                                maxPixels=1e9)\n",
    "                  .get('VV'))\n",
    "print(UpperThreshold.getInfo())\n",
    "print(LowerThreshold.getInfo())\n",
    "# Make Difference Darker Rasters\n",
    "difference_darker_smoothed_thresholded = difference_smoothed_resampled.lt(UpperThreshold)\n",
    "difference_darker_thresholded = difference_raw.lt(UpperThreshold)\n",
    "# Make Difference Brighter Rasters\n",
    "difference_brighter_smoothed_thresholded = difference_smoothed_resampled.gt(LowerThreshold)\n",
    "difference_brighter_thresholded = difference_raw.gt(LowerThreshold)\n",
    "# Display map (you can visualize it in the GEE Code Editor)\n",
    "Map = ee.Map()\n",
    "Map.centerObject(Luanda, 13)\n",
    "Map.addLayer(before_flood, {'min': -30, 'max': 0}, 'Before Flood', 1)\n",
    "Map.addLayer(during_flood, {'min': -30, 'max': 0}, 'During Flood', 1)\n",
    "Map.addLayer(difference_raw, {'min': -10, 'max': 10}, 'Difference - Raw', 0)\n",
    "Map.addLayer(difference_smoothed, {'min': -10, 'max': 10}, 'Difference - Smoothed', 0)\n",
    "Map.addLayer(difference_smoothed_resampled, {'min': -10, 'max': 10}, 'Difference - Smoothed & Resampled', 1)\n",
    "# Save maps to Google Drive or export as assets as needed"
   ]
  },
  {
   "cell_type": "code",
   "execution_count": 91,
   "metadata": {},
   "outputs": [],
   "source": [
    "import spyndex\n",
    "import geemap\n",
    "import ee , eemont"
   ]
  },
  {
   "cell_type": "code",
   "execution_count": 103,
   "metadata": {},
   "outputs": [],
   "source": []
  },
  {
   "cell_type": "code",
   "execution_count": 112,
   "metadata": {},
   "outputs": [
    {
     "ename": "EEException",
     "evalue": "Collection.loadTable: Collection asset 'C:/Users/jtrum/world_bank/data/luanda2clean.geojson' not found.",
     "output_type": "error",
     "traceback": [
      "\u001b[1;31m---------------------------------------------------------------------------\u001b[0m",
      "\u001b[1;31mHttpError\u001b[0m                                 Traceback (most recent call last)",
      "File \u001b[1;32mc:\\Users\\jtrum\\miniconda3\\envs\\wash_scan\\lib\\site-packages\\ee\\data.py:352\u001b[0m, in \u001b[0;36m_execute_cloud_call\u001b[1;34m(call, num_retries)\u001b[0m\n\u001b[0;32m    351\u001b[0m \u001b[39mtry\u001b[39;00m:\n\u001b[1;32m--> 352\u001b[0m   \u001b[39mreturn\u001b[39;00m call\u001b[39m.\u001b[39;49mexecute(num_retries\u001b[39m=\u001b[39;49mnum_retries)\n\u001b[0;32m    353\u001b[0m \u001b[39mexcept\u001b[39;00m googleapiclient\u001b[39m.\u001b[39merrors\u001b[39m.\u001b[39mHttpError \u001b[39mas\u001b[39;00m e:\n",
      "File \u001b[1;32mc:\\Users\\jtrum\\miniconda3\\envs\\wash_scan\\lib\\site-packages\\googleapiclient\\_helpers.py:130\u001b[0m, in \u001b[0;36mpositional.<locals>.positional_decorator.<locals>.positional_wrapper\u001b[1;34m(*args, **kwargs)\u001b[0m\n\u001b[0;32m    129\u001b[0m         logger\u001b[39m.\u001b[39mwarning(message)\n\u001b[1;32m--> 130\u001b[0m \u001b[39mreturn\u001b[39;00m wrapped(\u001b[39m*\u001b[39;49margs, \u001b[39m*\u001b[39;49m\u001b[39m*\u001b[39;49mkwargs)\n",
      "File \u001b[1;32mc:\\Users\\jtrum\\miniconda3\\envs\\wash_scan\\lib\\site-packages\\googleapiclient\\http.py:938\u001b[0m, in \u001b[0;36mHttpRequest.execute\u001b[1;34m(self, http, num_retries)\u001b[0m\n\u001b[0;32m    937\u001b[0m \u001b[39mif\u001b[39;00m resp\u001b[39m.\u001b[39mstatus \u001b[39m>\u001b[39m\u001b[39m=\u001b[39m \u001b[39m300\u001b[39m:\n\u001b[1;32m--> 938\u001b[0m     \u001b[39mraise\u001b[39;00m HttpError(resp, content, uri\u001b[39m=\u001b[39m\u001b[39mself\u001b[39m\u001b[39m.\u001b[39muri)\n\u001b[0;32m    939\u001b[0m \u001b[39mreturn\u001b[39;00m \u001b[39mself\u001b[39m\u001b[39m.\u001b[39mpostproc(resp, content)\n",
      "\u001b[1;31mHttpError\u001b[0m: <HttpError 400 when requesting https://earthengine.googleapis.com/v1/projects/earthengine-legacy/value:compute?prettyPrint=false&alt=json returned \"Collection.loadTable: Collection asset 'C:/Users/jtrum/world_bank/data/luanda2clean.geojson' not found.\". Details: \"Collection.loadTable: Collection asset 'C:/Users/jtrum/world_bank/data/luanda2clean.geojson' not found.\">",
      "\nDuring handling of the above exception, another exception occurred:\n",
      "\u001b[1;31mEEException\u001b[0m                               Traceback (most recent call last)",
      "Cell \u001b[1;32mIn[112], line 13\u001b[0m\n\u001b[0;32m     11\u001b[0m \u001b[39m# Create a map\u001b[39;00m\n\u001b[0;32m     12\u001b[0m Map \u001b[39m=\u001b[39m geemap\u001b[39m.\u001b[39mMap()\n\u001b[1;32m---> 13\u001b[0m Map\u001b[39m.\u001b[39;49mcenterObject(aoi, \u001b[39m10\u001b[39;49m)\n\u001b[0;32m     15\u001b[0m \u001b[39m# Load the Sentinel-2 image collection\u001b[39;00m\n\u001b[0;32m     16\u001b[0m sentinel \u001b[39m=\u001b[39m ee\u001b[39m.\u001b[39mImageCollection(\u001b[39m'\u001b[39m\u001b[39mCOPERNICUS/S2_SR_HARMONIZED\u001b[39m\u001b[39m'\u001b[39m) \\\n\u001b[0;32m     17\u001b[0m     \u001b[39m.\u001b[39mfilterBounds(aoi) \\\n\u001b[0;32m     18\u001b[0m     \u001b[39m.\u001b[39mfilterDate(\u001b[39m'\u001b[39m\u001b[39m2019-01-01\u001b[39m\u001b[39m'\u001b[39m, \u001b[39m'\u001b[39m\u001b[39m2019-12-31\u001b[39m\u001b[39m'\u001b[39m) \\\n\u001b[0;32m     19\u001b[0m     \u001b[39m.\u001b[39mfilterMetadata(\u001b[39m'\u001b[39m\u001b[39mCLOUDY_PIXEL_PERCENTAGE\u001b[39m\u001b[39m'\u001b[39m, \u001b[39m'\u001b[39m\u001b[39mless_than\u001b[39m\u001b[39m'\u001b[39m, \u001b[39m10\u001b[39m) \\\n\u001b[0;32m     20\u001b[0m     \u001b[39m.\u001b[39mfirst() \\\n\u001b[0;32m     21\u001b[0m     \u001b[39m.\u001b[39mmultiply(\u001b[39m0.0001\u001b[39m)\n",
      "File \u001b[1;32mc:\\Users\\jtrum\\miniconda3\\envs\\wash_scan\\lib\\site-packages\\geemap\\geemap.py:537\u001b[0m, in \u001b[0;36mMap.center_object\u001b[1;34m(self, ee_object, zoom)\u001b[0m\n\u001b[0;32m    535\u001b[0m     \u001b[39mraise\u001b[39;00m \u001b[39mException\u001b[39;00m(\u001b[39m\"\u001b[39m\u001b[39mZoom must be an integer.\u001b[39m\u001b[39m\"\u001b[39m)\n\u001b[0;32m    536\u001b[0m \u001b[39melse\u001b[39;00m:\n\u001b[1;32m--> 537\u001b[0m     centroid \u001b[39m=\u001b[39m geometry\u001b[39m.\u001b[39;49mcentroid(maxError\u001b[39m=\u001b[39;49mmaxError)\u001b[39m.\u001b[39;49mgetInfo()[\u001b[39m\"\u001b[39m\u001b[39mcoordinates\u001b[39m\u001b[39m\"\u001b[39m]\n\u001b[0;32m    538\u001b[0m     lat \u001b[39m=\u001b[39m centroid[\u001b[39m1\u001b[39m]\n\u001b[0;32m    539\u001b[0m     lon \u001b[39m=\u001b[39m centroid[\u001b[39m0\u001b[39m]\n",
      "File \u001b[1;32mc:\\Users\\jtrum\\miniconda3\\envs\\wash_scan\\lib\\site-packages\\ee\\computedobject.py:103\u001b[0m, in \u001b[0;36mComputedObject.getInfo\u001b[1;34m(self)\u001b[0m\n\u001b[0;32m     97\u001b[0m \u001b[39mdef\u001b[39;00m \u001b[39mgetInfo\u001b[39m(\u001b[39mself\u001b[39m) \u001b[39m-\u001b[39m\u001b[39m>\u001b[39m Optional[Any]:\n\u001b[0;32m     98\u001b[0m \u001b[39m  \u001b[39m\u001b[39m\"\"\"Fetch and return information about this object.\u001b[39;00m\n\u001b[0;32m     99\u001b[0m \n\u001b[0;32m    100\u001b[0m \u001b[39m  Returns:\u001b[39;00m\n\u001b[0;32m    101\u001b[0m \u001b[39m    The object can evaluate to anything.\u001b[39;00m\n\u001b[0;32m    102\u001b[0m \u001b[39m  \"\"\"\u001b[39;00m\n\u001b[1;32m--> 103\u001b[0m   \u001b[39mreturn\u001b[39;00m data\u001b[39m.\u001b[39;49mcomputeValue(\u001b[39mself\u001b[39;49m)\n",
      "File \u001b[1;32mc:\\Users\\jtrum\\miniconda3\\envs\\wash_scan\\lib\\site-packages\\ee\\data.py:971\u001b[0m, in \u001b[0;36mcomputeValue\u001b[1;34m(obj)\u001b[0m\n\u001b[0;32m    968\u001b[0m body \u001b[39m=\u001b[39m {\u001b[39m'\u001b[39m\u001b[39mexpression\u001b[39m\u001b[39m'\u001b[39m: serializer\u001b[39m.\u001b[39mencode(obj, for_cloud_api\u001b[39m=\u001b[39m\u001b[39mTrue\u001b[39;00m)}\n\u001b[0;32m    969\u001b[0m _maybe_populate_workload_tag(body)\n\u001b[1;32m--> 971\u001b[0m \u001b[39mreturn\u001b[39;00m _execute_cloud_call(\n\u001b[0;32m    972\u001b[0m     _get_cloud_projects()\n\u001b[0;32m    973\u001b[0m     \u001b[39m.\u001b[39;49mvalue()\n\u001b[0;32m    974\u001b[0m     \u001b[39m.\u001b[39;49mcompute(body\u001b[39m=\u001b[39;49mbody, project\u001b[39m=\u001b[39;49m_get_projects_path(), prettyPrint\u001b[39m=\u001b[39;49m\u001b[39mFalse\u001b[39;49;00m)\n\u001b[0;32m    975\u001b[0m )[\u001b[39m'\u001b[39m\u001b[39mresult\u001b[39m\u001b[39m'\u001b[39m]\n",
      "File \u001b[1;32mc:\\Users\\jtrum\\miniconda3\\envs\\wash_scan\\lib\\site-packages\\ee\\data.py:354\u001b[0m, in \u001b[0;36m_execute_cloud_call\u001b[1;34m(call, num_retries)\u001b[0m\n\u001b[0;32m    352\u001b[0m   \u001b[39mreturn\u001b[39;00m call\u001b[39m.\u001b[39mexecute(num_retries\u001b[39m=\u001b[39mnum_retries)\n\u001b[0;32m    353\u001b[0m \u001b[39mexcept\u001b[39;00m googleapiclient\u001b[39m.\u001b[39merrors\u001b[39m.\u001b[39mHttpError \u001b[39mas\u001b[39;00m e:\n\u001b[1;32m--> 354\u001b[0m   \u001b[39mraise\u001b[39;00m _translate_cloud_exception(e)\n",
      "\u001b[1;31mEEException\u001b[0m: Collection.loadTable: Collection asset 'C:/Users/jtrum/world_bank/data/luanda2clean.geojson' not found."
     ]
    }
   ],
   "source": [
    "import ee\n",
    "import geemap\n",
    "\n",
    "# Define the path to your GeoJSON file\n",
    "datadir = 'C:/Users/jtrum/world_bank/data/'\n",
    "aoi_path = datadir + 'luanda2clean.geojson'\n",
    "\n",
    "# Load the GeoJSON as a FeatureCollection\n",
    "aoi = ee.FeatureCollection(aoi_path)\n",
    "\n",
    "# Create a map\n",
    "Map = geemap.Map()\n",
    "Map.centerObject(aoi, 10)\n",
    "\n",
    "# Load the Sentinel-2 image collection\n",
    "sentinel = ee.ImageCollection('COPERNICUS/S2_SR_HARMONIZED') \\\n",
    "    .filterBounds(aoi) \\\n",
    "    .filterDate('2019-01-01', '2019-12-31') \\\n",
    "    .filterMetadata('CLOUDY_PIXEL_PERCENTAGE', 'less_than', 10) \\\n",
    "    .first() \\\n",
    "    .multiply(0.0001)\n",
    "\n",
    "# Compute the NDVI index\n",
    "ndvi = sentinel.normalizedDifference(['B8', 'B4'])\n",
    "\n",
    "# Add the NDVI band to the image\n",
    "img = sentinel.addBands(ndvi.rename('NDVI'))\n",
    "\n",
    "# Add the NDVI layer to the map\n",
    "Map.addLayer(img.select('NDVI'), {\"min\": -1, \"max\": 1, \"palette\": ['red', 'white', 'green']}, \"NDVI\")\n",
    "\n",
    "# Display the map\n",
    "Map\n"
   ]
  },
  {
   "cell_type": "code",
   "execution_count": 113,
   "metadata": {},
   "outputs": [
    {
     "ename": "EEException",
     "evalue": "Collection.loadTable: Collection asset 'C:/Users/jtrum/world_bank/data/luanda2clean.geojson' not found.",
     "output_type": "error",
     "traceback": [
      "\u001b[1;31m---------------------------------------------------------------------------\u001b[0m",
      "\u001b[1;31mHttpError\u001b[0m                                 Traceback (most recent call last)",
      "File \u001b[1;32mc:\\Users\\jtrum\\miniconda3\\envs\\wash_scan\\lib\\site-packages\\ee\\data.py:352\u001b[0m, in \u001b[0;36m_execute_cloud_call\u001b[1;34m(call, num_retries)\u001b[0m\n\u001b[0;32m    351\u001b[0m \u001b[39mtry\u001b[39;00m:\n\u001b[1;32m--> 352\u001b[0m   \u001b[39mreturn\u001b[39;00m call\u001b[39m.\u001b[39;49mexecute(num_retries\u001b[39m=\u001b[39;49mnum_retries)\n\u001b[0;32m    353\u001b[0m \u001b[39mexcept\u001b[39;00m googleapiclient\u001b[39m.\u001b[39merrors\u001b[39m.\u001b[39mHttpError \u001b[39mas\u001b[39;00m e:\n",
      "File \u001b[1;32mc:\\Users\\jtrum\\miniconda3\\envs\\wash_scan\\lib\\site-packages\\googleapiclient\\_helpers.py:130\u001b[0m, in \u001b[0;36mpositional.<locals>.positional_decorator.<locals>.positional_wrapper\u001b[1;34m(*args, **kwargs)\u001b[0m\n\u001b[0;32m    129\u001b[0m         logger\u001b[39m.\u001b[39mwarning(message)\n\u001b[1;32m--> 130\u001b[0m \u001b[39mreturn\u001b[39;00m wrapped(\u001b[39m*\u001b[39;49margs, \u001b[39m*\u001b[39;49m\u001b[39m*\u001b[39;49mkwargs)\n",
      "File \u001b[1;32mc:\\Users\\jtrum\\miniconda3\\envs\\wash_scan\\lib\\site-packages\\googleapiclient\\http.py:938\u001b[0m, in \u001b[0;36mHttpRequest.execute\u001b[1;34m(self, http, num_retries)\u001b[0m\n\u001b[0;32m    937\u001b[0m \u001b[39mif\u001b[39;00m resp\u001b[39m.\u001b[39mstatus \u001b[39m>\u001b[39m\u001b[39m=\u001b[39m \u001b[39m300\u001b[39m:\n\u001b[1;32m--> 938\u001b[0m     \u001b[39mraise\u001b[39;00m HttpError(resp, content, uri\u001b[39m=\u001b[39m\u001b[39mself\u001b[39m\u001b[39m.\u001b[39muri)\n\u001b[0;32m    939\u001b[0m \u001b[39mreturn\u001b[39;00m \u001b[39mself\u001b[39m\u001b[39m.\u001b[39mpostproc(resp, content)\n",
      "\u001b[1;31mHttpError\u001b[0m: <HttpError 400 when requesting https://earthengine.googleapis.com/v1/projects/earthengine-legacy/value:compute?prettyPrint=false&alt=json returned \"Collection.loadTable: Collection asset 'C:/Users/jtrum/world_bank/data/luanda2clean.geojson' not found.\". Details: \"Collection.loadTable: Collection asset 'C:/Users/jtrum/world_bank/data/luanda2clean.geojson' not found.\">",
      "\nDuring handling of the above exception, another exception occurred:\n",
      "\u001b[1;31mEEException\u001b[0m                               Traceback (most recent call last)",
      "Cell \u001b[1;32mIn[113], line 3\u001b[0m\n\u001b[0;32m      1\u001b[0m aoi_path \u001b[39m=\u001b[39m datadir \u001b[39m+\u001b[39m \u001b[39m'\u001b[39m\u001b[39mluanda2clean.geojson\u001b[39m\u001b[39m'\u001b[39m\n\u001b[0;32m      2\u001b[0m aoi \u001b[39m=\u001b[39m ee\u001b[39m.\u001b[39mFeatureCollection(aoi)\n\u001b[1;32m----> 3\u001b[0m coords \u001b[39m=\u001b[39m aoi\u001b[39m.\u001b[39;49mgeometry()\u001b[39m.\u001b[39;49mcoordinates()\u001b[39m.\u001b[39;49mgetInfo()[\u001b[39m0\u001b[39m]\n\u001b[0;32m      5\u001b[0m roi \u001b[39m=\u001b[39m ee\u001b[39m.\u001b[39mGeometry\u001b[39m.\u001b[39mPoint([\u001b[39m13.230162\u001b[39m, \u001b[39m-\u001b[39m\u001b[39m8.814921\u001b[39m])\n\u001b[0;32m      7\u001b[0m sentinel \u001b[39m=\u001b[39m ee\u001b[39m.\u001b[39mImageCollection(\u001b[39m'\u001b[39m\u001b[39mCOPERNICUS/S2_SR_HARMONIZED\u001b[39m\u001b[39m'\u001b[39m)\\\n\u001b[0;32m      8\u001b[0m     \u001b[39m.\u001b[39mfilterBounds(roi)\\\n\u001b[0;32m      9\u001b[0m     \u001b[39m.\u001b[39mfilterDate(\u001b[39m'\u001b[39m\u001b[39m2019-01-01\u001b[39m\u001b[39m'\u001b[39m, \u001b[39m'\u001b[39m\u001b[39m2019-12-31\u001b[39m\u001b[39m'\u001b[39m)\\\n\u001b[0;32m     10\u001b[0m     \u001b[39m.\u001b[39mfilterMetadata(\u001b[39m'\u001b[39m\u001b[39mCLOUDY_PIXEL_PERCENTAGE\u001b[39m\u001b[39m'\u001b[39m, \u001b[39m'\u001b[39m\u001b[39mless_than\u001b[39m\u001b[39m'\u001b[39m, \u001b[39m10\u001b[39m)\\\n\u001b[0;32m     11\u001b[0m     \u001b[39m.\u001b[39mfirst()\\\n\u001b[0;32m     12\u001b[0m     \u001b[39m.\u001b[39mmultiply(\u001b[39m0.0001\u001b[39m)\n",
      "File \u001b[1;32mc:\\Users\\jtrum\\miniconda3\\envs\\wash_scan\\lib\\site-packages\\ee\\computedobject.py:103\u001b[0m, in \u001b[0;36mComputedObject.getInfo\u001b[1;34m(self)\u001b[0m\n\u001b[0;32m     97\u001b[0m \u001b[39mdef\u001b[39;00m \u001b[39mgetInfo\u001b[39m(\u001b[39mself\u001b[39m) \u001b[39m-\u001b[39m\u001b[39m>\u001b[39m Optional[Any]:\n\u001b[0;32m     98\u001b[0m \u001b[39m  \u001b[39m\u001b[39m\"\"\"Fetch and return information about this object.\u001b[39;00m\n\u001b[0;32m     99\u001b[0m \n\u001b[0;32m    100\u001b[0m \u001b[39m  Returns:\u001b[39;00m\n\u001b[0;32m    101\u001b[0m \u001b[39m    The object can evaluate to anything.\u001b[39;00m\n\u001b[0;32m    102\u001b[0m \u001b[39m  \"\"\"\u001b[39;00m\n\u001b[1;32m--> 103\u001b[0m   \u001b[39mreturn\u001b[39;00m data\u001b[39m.\u001b[39;49mcomputeValue(\u001b[39mself\u001b[39;49m)\n",
      "File \u001b[1;32mc:\\Users\\jtrum\\miniconda3\\envs\\wash_scan\\lib\\site-packages\\ee\\data.py:971\u001b[0m, in \u001b[0;36mcomputeValue\u001b[1;34m(obj)\u001b[0m\n\u001b[0;32m    968\u001b[0m body \u001b[39m=\u001b[39m {\u001b[39m'\u001b[39m\u001b[39mexpression\u001b[39m\u001b[39m'\u001b[39m: serializer\u001b[39m.\u001b[39mencode(obj, for_cloud_api\u001b[39m=\u001b[39m\u001b[39mTrue\u001b[39;00m)}\n\u001b[0;32m    969\u001b[0m _maybe_populate_workload_tag(body)\n\u001b[1;32m--> 971\u001b[0m \u001b[39mreturn\u001b[39;00m _execute_cloud_call(\n\u001b[0;32m    972\u001b[0m     _get_cloud_projects()\n\u001b[0;32m    973\u001b[0m     \u001b[39m.\u001b[39;49mvalue()\n\u001b[0;32m    974\u001b[0m     \u001b[39m.\u001b[39;49mcompute(body\u001b[39m=\u001b[39;49mbody, project\u001b[39m=\u001b[39;49m_get_projects_path(), prettyPrint\u001b[39m=\u001b[39;49m\u001b[39mFalse\u001b[39;49;00m)\n\u001b[0;32m    975\u001b[0m )[\u001b[39m'\u001b[39m\u001b[39mresult\u001b[39m\u001b[39m'\u001b[39m]\n",
      "File \u001b[1;32mc:\\Users\\jtrum\\miniconda3\\envs\\wash_scan\\lib\\site-packages\\ee\\data.py:354\u001b[0m, in \u001b[0;36m_execute_cloud_call\u001b[1;34m(call, num_retries)\u001b[0m\n\u001b[0;32m    352\u001b[0m   \u001b[39mreturn\u001b[39;00m call\u001b[39m.\u001b[39mexecute(num_retries\u001b[39m=\u001b[39mnum_retries)\n\u001b[0;32m    353\u001b[0m \u001b[39mexcept\u001b[39;00m googleapiclient\u001b[39m.\u001b[39merrors\u001b[39m.\u001b[39mHttpError \u001b[39mas\u001b[39;00m e:\n\u001b[1;32m--> 354\u001b[0m   \u001b[39mraise\u001b[39;00m _translate_cloud_exception(e)\n",
      "\u001b[1;31mEEException\u001b[0m: Collection.loadTable: Collection asset 'C:/Users/jtrum/world_bank/data/luanda2clean.geojson' not found."
     ]
    }
   ],
   "source": [
    "aoi_path = datadir + 'luanda2clean.geojson'\n",
    "aoi = ee.FeatureCollection(aoi)\n",
    "coords = aoi.geometry().coordinates().getInfo()[0]\n",
    "\n",
    "roi = ee.Geometry.Point([13.230162, -8.814921])\n",
    "\n",
    "sentinel = ee.ImageCollection('COPERNICUS/S2_SR_HARMONIZED')\\\n",
    "    .filterBounds(roi)\\\n",
    "    .filterDate('2019-01-01', '2019-12-31')\\\n",
    "    .filterMetadata('CLOUDY_PIXEL_PERCENTAGE', 'less_than', 10)\\\n",
    "    .first()\\\n",
    "    .multiply(0.0001)\n",
    "\n",
    "idx = spyndex.computeIndex(\n",
    "    index = ['NDVI'], \n",
    "    params = {\n",
    "        \"R\": sentinel[\"B4\"],\n",
    "        \"N\": sentinel[\"B8\"],\n",
    "        \"G\": sentinel[\"B3\"],\n",
    "        \"B\": sentinel[\"B2\"]\n",
    "        }\n",
    ")\n",
    "\n",
    "img = sentinel.addBands(idx)\n",
    "\n",
    "Map = geemap.Map()\n",
    "Map.centerObject(img, 10)\n",
    "Map.addLayer(img['NDVI'], {\"min\":-1, \"max\":1, \"palette\":['red', 'white', 'green']}, \"NDVI\")\n",
    "Map"
   ]
  },
  {
   "cell_type": "code",
   "execution_count": 92,
   "metadata": {},
   "outputs": [],
   "source": [
    "sentinel = ee.ImageCollection('COPERNICUS/S2_SR_HARMONIZED')\\\n",
    "    .filterBounds(roi)\\\n",
    "    .filterDate('2019-01-01', '2019-12-31')\\\n",
    "    .filterMetadata('CLOUDY_PIXEL_PERCENTAGE', 'less_than', 10)\\\n",
    "    .first()\\\n",
    "    .multiply(0.0001)"
   ]
  },
  {
   "cell_type": "code",
   "execution_count": 95,
   "metadata": {},
   "outputs": [],
   "source": [
    "idx = spyndex.computeIndex(index = 'NDVI', \n",
    "                           params = {\"R\": sentinel[\"B4\"],\n",
    "                                     \"N\": sentinel[\"B8\"],\n",
    "                                     \"G\": sentinel[\"B3\"],\n",
    "                                     \"B\": sentinel[\"B2\"]\n",
    "                                     })"
   ]
  },
  {
   "cell_type": "code",
   "execution_count": 96,
   "metadata": {},
   "outputs": [],
   "source": [
    "img = sentinel.addBands(idx)"
   ]
  },
  {
   "cell_type": "code",
   "execution_count": 98,
   "metadata": {},
   "outputs": [
    {
     "ename": "EEException",
     "evalue": "GeometryConstructors.Polygon, argument 'coordinates': Invalid type.\nExpected type: List<Object>.\nActual type: FeatureCollection.",
     "output_type": "error",
     "traceback": [
      "\u001b[1;31m---------------------------------------------------------------------------\u001b[0m",
      "\u001b[1;31mHttpError\u001b[0m                                 Traceback (most recent call last)",
      "File \u001b[1;32mc:\\Users\\jtrum\\miniconda3\\envs\\wash_scan\\lib\\site-packages\\ee\\data.py:352\u001b[0m, in \u001b[0;36m_execute_cloud_call\u001b[1;34m(call, num_retries)\u001b[0m\n\u001b[0;32m    351\u001b[0m \u001b[39mtry\u001b[39;00m:\n\u001b[1;32m--> 352\u001b[0m   \u001b[39mreturn\u001b[39;00m call\u001b[39m.\u001b[39;49mexecute(num_retries\u001b[39m=\u001b[39;49mnum_retries)\n\u001b[0;32m    353\u001b[0m \u001b[39mexcept\u001b[39;00m googleapiclient\u001b[39m.\u001b[39merrors\u001b[39m.\u001b[39mHttpError \u001b[39mas\u001b[39;00m e:\n",
      "File \u001b[1;32mc:\\Users\\jtrum\\miniconda3\\envs\\wash_scan\\lib\\site-packages\\googleapiclient\\_helpers.py:130\u001b[0m, in \u001b[0;36mpositional.<locals>.positional_decorator.<locals>.positional_wrapper\u001b[1;34m(*args, **kwargs)\u001b[0m\n\u001b[0;32m    129\u001b[0m         logger\u001b[39m.\u001b[39mwarning(message)\n\u001b[1;32m--> 130\u001b[0m \u001b[39mreturn\u001b[39;00m wrapped(\u001b[39m*\u001b[39;49margs, \u001b[39m*\u001b[39;49m\u001b[39m*\u001b[39;49mkwargs)\n",
      "File \u001b[1;32mc:\\Users\\jtrum\\miniconda3\\envs\\wash_scan\\lib\\site-packages\\googleapiclient\\http.py:938\u001b[0m, in \u001b[0;36mHttpRequest.execute\u001b[1;34m(self, http, num_retries)\u001b[0m\n\u001b[0;32m    937\u001b[0m \u001b[39mif\u001b[39;00m resp\u001b[39m.\u001b[39mstatus \u001b[39m>\u001b[39m\u001b[39m=\u001b[39m \u001b[39m300\u001b[39m:\n\u001b[1;32m--> 938\u001b[0m     \u001b[39mraise\u001b[39;00m HttpError(resp, content, uri\u001b[39m=\u001b[39m\u001b[39mself\u001b[39m\u001b[39m.\u001b[39muri)\n\u001b[0;32m    939\u001b[0m \u001b[39mreturn\u001b[39;00m \u001b[39mself\u001b[39m\u001b[39m.\u001b[39mpostproc(resp, content)\n",
      "\u001b[1;31mHttpError\u001b[0m: <HttpError 400 when requesting https://earthengine.googleapis.com/v1/projects/earthengine-legacy/value:compute?prettyPrint=false&alt=json returned \"GeometryConstructors.Polygon, argument 'coordinates': Invalid type.\nExpected type: List<Object>.\nActual type: FeatureCollection.\". Details: \"GeometryConstructors.Polygon, argument 'coordinates': Invalid type.\nExpected type: List<Object>.\nActual type: FeatureCollection.\">",
      "\nDuring handling of the above exception, another exception occurred:\n",
      "\u001b[1;31mEEException\u001b[0m                               Traceback (most recent call last)",
      "Cell \u001b[1;32mIn[98], line 2\u001b[0m\n\u001b[0;32m      1\u001b[0m Map \u001b[39m=\u001b[39m geemap\u001b[39m.\u001b[39mMap()\n\u001b[1;32m----> 2\u001b[0m Map\u001b[39m.\u001b[39;49mcenterObject(img, \u001b[39m10\u001b[39;49m)\n\u001b[0;32m      3\u001b[0m Map\u001b[39m.\u001b[39maddLayer(img[\u001b[39m'\u001b[39m\u001b[39mNDVI\u001b[39m\u001b[39m'\u001b[39m], {\u001b[39m\"\u001b[39m\u001b[39mmin\u001b[39m\u001b[39m\"\u001b[39m:\u001b[39m-\u001b[39m\u001b[39m1\u001b[39m, \u001b[39m\"\u001b[39m\u001b[39mmax\u001b[39m\u001b[39m\"\u001b[39m:\u001b[39m1\u001b[39m, \u001b[39m\"\u001b[39m\u001b[39mpalette\u001b[39m\u001b[39m\"\u001b[39m:[\u001b[39m'\u001b[39m\u001b[39mred\u001b[39m\u001b[39m'\u001b[39m, \u001b[39m'\u001b[39m\u001b[39mwhite\u001b[39m\u001b[39m'\u001b[39m, \u001b[39m'\u001b[39m\u001b[39mblue\u001b[39m\u001b[39m'\u001b[39m]}, \u001b[39m\"\u001b[39m\u001b[39mNDVI\u001b[39m\u001b[39m\"\u001b[39m)\n\u001b[0;32m      4\u001b[0m Map\n",
      "File \u001b[1;32mc:\\Users\\jtrum\\miniconda3\\envs\\wash_scan\\lib\\site-packages\\geemap\\geemap.py:537\u001b[0m, in \u001b[0;36mMap.center_object\u001b[1;34m(self, ee_object, zoom)\u001b[0m\n\u001b[0;32m    535\u001b[0m     \u001b[39mraise\u001b[39;00m \u001b[39mException\u001b[39;00m(\u001b[39m\"\u001b[39m\u001b[39mZoom must be an integer.\u001b[39m\u001b[39m\"\u001b[39m)\n\u001b[0;32m    536\u001b[0m \u001b[39melse\u001b[39;00m:\n\u001b[1;32m--> 537\u001b[0m     centroid \u001b[39m=\u001b[39m geometry\u001b[39m.\u001b[39;49mcentroid(maxError\u001b[39m=\u001b[39;49mmaxError)\u001b[39m.\u001b[39;49mgetInfo()[\u001b[39m\"\u001b[39m\u001b[39mcoordinates\u001b[39m\u001b[39m\"\u001b[39m]\n\u001b[0;32m    538\u001b[0m     lat \u001b[39m=\u001b[39m centroid[\u001b[39m1\u001b[39m]\n\u001b[0;32m    539\u001b[0m     lon \u001b[39m=\u001b[39m centroid[\u001b[39m0\u001b[39m]\n",
      "File \u001b[1;32mc:\\Users\\jtrum\\miniconda3\\envs\\wash_scan\\lib\\site-packages\\ee\\computedobject.py:103\u001b[0m, in \u001b[0;36mComputedObject.getInfo\u001b[1;34m(self)\u001b[0m\n\u001b[0;32m     97\u001b[0m \u001b[39mdef\u001b[39;00m \u001b[39mgetInfo\u001b[39m(\u001b[39mself\u001b[39m) \u001b[39m-\u001b[39m\u001b[39m>\u001b[39m Optional[Any]:\n\u001b[0;32m     98\u001b[0m \u001b[39m  \u001b[39m\u001b[39m\"\"\"Fetch and return information about this object.\u001b[39;00m\n\u001b[0;32m     99\u001b[0m \n\u001b[0;32m    100\u001b[0m \u001b[39m  Returns:\u001b[39;00m\n\u001b[0;32m    101\u001b[0m \u001b[39m    The object can evaluate to anything.\u001b[39;00m\n\u001b[0;32m    102\u001b[0m \u001b[39m  \"\"\"\u001b[39;00m\n\u001b[1;32m--> 103\u001b[0m   \u001b[39mreturn\u001b[39;00m data\u001b[39m.\u001b[39;49mcomputeValue(\u001b[39mself\u001b[39;49m)\n",
      "File \u001b[1;32mc:\\Users\\jtrum\\miniconda3\\envs\\wash_scan\\lib\\site-packages\\ee\\data.py:971\u001b[0m, in \u001b[0;36mcomputeValue\u001b[1;34m(obj)\u001b[0m\n\u001b[0;32m    968\u001b[0m body \u001b[39m=\u001b[39m {\u001b[39m'\u001b[39m\u001b[39mexpression\u001b[39m\u001b[39m'\u001b[39m: serializer\u001b[39m.\u001b[39mencode(obj, for_cloud_api\u001b[39m=\u001b[39m\u001b[39mTrue\u001b[39;00m)}\n\u001b[0;32m    969\u001b[0m _maybe_populate_workload_tag(body)\n\u001b[1;32m--> 971\u001b[0m \u001b[39mreturn\u001b[39;00m _execute_cloud_call(\n\u001b[0;32m    972\u001b[0m     _get_cloud_projects()\n\u001b[0;32m    973\u001b[0m     \u001b[39m.\u001b[39;49mvalue()\n\u001b[0;32m    974\u001b[0m     \u001b[39m.\u001b[39;49mcompute(body\u001b[39m=\u001b[39;49mbody, project\u001b[39m=\u001b[39;49m_get_projects_path(), prettyPrint\u001b[39m=\u001b[39;49m\u001b[39mFalse\u001b[39;49;00m)\n\u001b[0;32m    975\u001b[0m )[\u001b[39m'\u001b[39m\u001b[39mresult\u001b[39m\u001b[39m'\u001b[39m]\n",
      "File \u001b[1;32mc:\\Users\\jtrum\\miniconda3\\envs\\wash_scan\\lib\\site-packages\\ee\\data.py:354\u001b[0m, in \u001b[0;36m_execute_cloud_call\u001b[1;34m(call, num_retries)\u001b[0m\n\u001b[0;32m    352\u001b[0m   \u001b[39mreturn\u001b[39;00m call\u001b[39m.\u001b[39mexecute(num_retries\u001b[39m=\u001b[39mnum_retries)\n\u001b[0;32m    353\u001b[0m \u001b[39mexcept\u001b[39;00m googleapiclient\u001b[39m.\u001b[39merrors\u001b[39m.\u001b[39mHttpError \u001b[39mas\u001b[39;00m e:\n\u001b[1;32m--> 354\u001b[0m   \u001b[39mraise\u001b[39;00m _translate_cloud_exception(e)\n",
      "\u001b[1;31mEEException\u001b[0m: GeometryConstructors.Polygon, argument 'coordinates': Invalid type.\nExpected type: List<Object>.\nActual type: FeatureCollection."
     ]
    }
   ],
   "source": [
    "Map = geemap.Map()\n",
    "Map.centerObject(img, 10)\n",
    "Map.addLayer(img['NDVI'], {\"min\":-1, \"max\":1, \"palette\":['red', 'white', 'blue']}, \"NDVI\")\n",
    "Map"
   ]
  },
  {
   "cell_type": "code",
   "execution_count": 109,
   "metadata": {},
   "outputs": [
    {
     "ename": "EEException",
     "evalue": "Image.select: Pattern 'NDVI' did not match any bands.",
     "output_type": "error",
     "traceback": [
      "\u001b[1;31m---------------------------------------------------------------------------\u001b[0m",
      "\u001b[1;31mHttpError\u001b[0m                                 Traceback (most recent call last)",
      "File \u001b[1;32mc:\\Users\\jtrum\\miniconda3\\envs\\wash_scan\\lib\\site-packages\\ee\\data.py:352\u001b[0m, in \u001b[0;36m_execute_cloud_call\u001b[1;34m(call, num_retries)\u001b[0m\n\u001b[0;32m    351\u001b[0m \u001b[39mtry\u001b[39;00m:\n\u001b[1;32m--> 352\u001b[0m   \u001b[39mreturn\u001b[39;00m call\u001b[39m.\u001b[39;49mexecute(num_retries\u001b[39m=\u001b[39;49mnum_retries)\n\u001b[0;32m    353\u001b[0m \u001b[39mexcept\u001b[39;00m googleapiclient\u001b[39m.\u001b[39merrors\u001b[39m.\u001b[39mHttpError \u001b[39mas\u001b[39;00m e:\n",
      "File \u001b[1;32mc:\\Users\\jtrum\\miniconda3\\envs\\wash_scan\\lib\\site-packages\\googleapiclient\\_helpers.py:130\u001b[0m, in \u001b[0;36mpositional.<locals>.positional_decorator.<locals>.positional_wrapper\u001b[1;34m(*args, **kwargs)\u001b[0m\n\u001b[0;32m    129\u001b[0m         logger\u001b[39m.\u001b[39mwarning(message)\n\u001b[1;32m--> 130\u001b[0m \u001b[39mreturn\u001b[39;00m wrapped(\u001b[39m*\u001b[39;49margs, \u001b[39m*\u001b[39;49m\u001b[39m*\u001b[39;49mkwargs)\n",
      "File \u001b[1;32mc:\\Users\\jtrum\\miniconda3\\envs\\wash_scan\\lib\\site-packages\\googleapiclient\\http.py:938\u001b[0m, in \u001b[0;36mHttpRequest.execute\u001b[1;34m(self, http, num_retries)\u001b[0m\n\u001b[0;32m    937\u001b[0m \u001b[39mif\u001b[39;00m resp\u001b[39m.\u001b[39mstatus \u001b[39m>\u001b[39m\u001b[39m=\u001b[39m \u001b[39m300\u001b[39m:\n\u001b[1;32m--> 938\u001b[0m     \u001b[39mraise\u001b[39;00m HttpError(resp, content, uri\u001b[39m=\u001b[39m\u001b[39mself\u001b[39m\u001b[39m.\u001b[39muri)\n\u001b[0;32m    939\u001b[0m \u001b[39mreturn\u001b[39;00m \u001b[39mself\u001b[39m\u001b[39m.\u001b[39mpostproc(resp, content)\n",
      "\u001b[1;31mHttpError\u001b[0m: <HttpError 400 when requesting https://earthengine.googleapis.com/v1/projects/earthengine-legacy/maps?fields=name&alt=json returned \"Image.select: Pattern 'NDVI' did not match any bands.\". Details: \"Image.select: Pattern 'NDVI' did not match any bands.\">",
      "\nDuring handling of the above exception, another exception occurred:\n",
      "\u001b[1;31mEEException\u001b[0m                               Traceback (most recent call last)",
      "Cell \u001b[1;32mIn[109], line 34\u001b[0m\n\u001b[0;32m     32\u001b[0m Map \u001b[39m=\u001b[39m geemap\u001b[39m.\u001b[39mMap()\n\u001b[0;32m     33\u001b[0m Map\u001b[39m.\u001b[39mcenterObject(img, \u001b[39m10\u001b[39m)\n\u001b[1;32m---> 34\u001b[0m Map\u001b[39m.\u001b[39;49maddLayer(img\u001b[39m.\u001b[39;49mselect(\u001b[39m'\u001b[39;49m\u001b[39mNDVI\u001b[39;49m\u001b[39m'\u001b[39;49m), {\u001b[39m\"\u001b[39;49m\u001b[39mmin\u001b[39;49m\u001b[39m\"\u001b[39;49m: \u001b[39m-\u001b[39;49m\u001b[39m1\u001b[39;49m, \u001b[39m\"\u001b[39;49m\u001b[39mmax\u001b[39;49m\u001b[39m\"\u001b[39;49m: \u001b[39m1\u001b[39;49m, \u001b[39m\"\u001b[39;49m\u001b[39mpalette\u001b[39;49m\u001b[39m\"\u001b[39;49m: [\u001b[39m'\u001b[39;49m\u001b[39mred\u001b[39;49m\u001b[39m'\u001b[39;49m, \u001b[39m'\u001b[39;49m\u001b[39mwhite\u001b[39;49m\u001b[39m'\u001b[39;49m, \u001b[39m'\u001b[39;49m\u001b[39mblue\u001b[39;49m\u001b[39m'\u001b[39;49m]}, \u001b[39m\"\u001b[39;49m\u001b[39mNDVI\u001b[39;49m\u001b[39m\"\u001b[39;49m)\n\u001b[0;32m     35\u001b[0m Map\n",
      "File \u001b[1;32mc:\\Users\\jtrum\\miniconda3\\envs\\wash_scan\\lib\\site-packages\\geemap\\geemap.py:447\u001b[0m, in \u001b[0;36mMap.add_ee_layer\u001b[1;34m(self, ee_object, vis_params, name, shown, opacity)\u001b[0m\n\u001b[0;32m    445\u001b[0m     layer_count \u001b[39m=\u001b[39m \u001b[39mlen\u001b[39m(\u001b[39mself\u001b[39m\u001b[39m.\u001b[39mlayers)\n\u001b[0;32m    446\u001b[0m     name \u001b[39m=\u001b[39m \u001b[39m\"\u001b[39m\u001b[39mLayer \u001b[39m\u001b[39m\"\u001b[39m \u001b[39m+\u001b[39m \u001b[39mstr\u001b[39m(layer_count \u001b[39m+\u001b[39m \u001b[39m1\u001b[39m)\n\u001b[1;32m--> 447\u001b[0m tile_layer \u001b[39m=\u001b[39m EELeafletTileLayer(ee_object, vis_params, name, shown, opacity)\n\u001b[0;32m    449\u001b[0m layer \u001b[39m=\u001b[39m \u001b[39mself\u001b[39m\u001b[39m.\u001b[39mfind_layer(name\u001b[39m=\u001b[39mname)\n\u001b[0;32m    450\u001b[0m \u001b[39mif\u001b[39;00m layer \u001b[39mis\u001b[39;00m \u001b[39mnot\u001b[39;00m \u001b[39mNone\u001b[39;00m:\n",
      "File \u001b[1;32mc:\\Users\\jtrum\\miniconda3\\envs\\wash_scan\\lib\\site-packages\\geemap\\ee_tile_layers.py:134\u001b[0m, in \u001b[0;36mEELeafletTileLayer.__init__\u001b[1;34m(self, ee_object, vis_params, name, shown, opacity, **kwargs)\u001b[0m\n\u001b[0;32m    116\u001b[0m \u001b[39mdef\u001b[39;00m \u001b[39m__init__\u001b[39m(\n\u001b[0;32m    117\u001b[0m     \u001b[39mself\u001b[39m,\n\u001b[0;32m    118\u001b[0m     ee_object,\n\u001b[1;32m   (...)\u001b[0m\n\u001b[0;32m    123\u001b[0m     \u001b[39m*\u001b[39m\u001b[39m*\u001b[39mkwargs,\n\u001b[0;32m    124\u001b[0m ):\n\u001b[0;32m    125\u001b[0m \u001b[39m    \u001b[39m\u001b[39m\"\"\"Initialize the ipyleaflet tile layer.\u001b[39;00m\n\u001b[0;32m    126\u001b[0m \n\u001b[0;32m    127\u001b[0m \u001b[39m    Args:\u001b[39;00m\n\u001b[1;32m   (...)\u001b[0m\n\u001b[0;32m    132\u001b[0m \u001b[39m        opacity (float, optional): The layer's opacity represented as a number between 0 and 1. Defaults to 1.\u001b[39;00m\n\u001b[0;32m    133\u001b[0m \u001b[39m    \"\"\"\u001b[39;00m\n\u001b[1;32m--> 134\u001b[0m     \u001b[39mself\u001b[39m\u001b[39m.\u001b[39murl_format \u001b[39m=\u001b[39m _get_tile_url_format(\n\u001b[0;32m    135\u001b[0m         ee_object, _validate_vis_params(vis_params)\n\u001b[0;32m    136\u001b[0m     )\n\u001b[0;32m    137\u001b[0m     \u001b[39msuper\u001b[39m()\u001b[39m.\u001b[39m\u001b[39m__init__\u001b[39m(\n\u001b[0;32m    138\u001b[0m         url\u001b[39m=\u001b[39m\u001b[39mself\u001b[39m\u001b[39m.\u001b[39murl_format,\n\u001b[0;32m    139\u001b[0m         attribution\u001b[39m=\u001b[39m\u001b[39m\"\u001b[39m\u001b[39mGoogle Earth Engine\u001b[39m\u001b[39m\"\u001b[39m,\n\u001b[1;32m   (...)\u001b[0m\n\u001b[0;32m    144\u001b[0m         \u001b[39m*\u001b[39m\u001b[39m*\u001b[39mkwargs,\n\u001b[0;32m    145\u001b[0m     )\n",
      "File \u001b[1;32mc:\\Users\\jtrum\\miniconda3\\envs\\wash_scan\\lib\\site-packages\\geemap\\ee_tile_layers.py:18\u001b[0m, in \u001b[0;36m_get_tile_url_format\u001b[1;34m(ee_object, vis_params)\u001b[0m\n\u001b[0;32m     16\u001b[0m \u001b[39mdef\u001b[39;00m \u001b[39m_get_tile_url_format\u001b[39m(ee_object, vis_params):\n\u001b[0;32m     17\u001b[0m     image \u001b[39m=\u001b[39m _ee_object_to_image(ee_object, vis_params)\n\u001b[1;32m---> 18\u001b[0m     map_id_dict \u001b[39m=\u001b[39m ee\u001b[39m.\u001b[39;49mImage(image)\u001b[39m.\u001b[39;49mgetMapId(vis_params)\n\u001b[0;32m     19\u001b[0m     \u001b[39mreturn\u001b[39;00m map_id_dict[\u001b[39m\"\u001b[39m\u001b[39mtile_fetcher\u001b[39m\u001b[39m\"\u001b[39m]\u001b[39m.\u001b[39murl_format\n",
      "File \u001b[1;32mc:\\Users\\jtrum\\miniconda3\\envs\\wash_scan\\lib\\site-packages\\ee\\image.py:126\u001b[0m, in \u001b[0;36mImage.getMapId\u001b[1;34m(self, vis_params)\u001b[0m\n\u001b[0;32m    124\u001b[0m vis_image, request \u001b[39m=\u001b[39m \u001b[39mself\u001b[39m\u001b[39m.\u001b[39m_apply_visualization(vis_params)\n\u001b[0;32m    125\u001b[0m request[\u001b[39m'\u001b[39m\u001b[39mimage\u001b[39m\u001b[39m'\u001b[39m] \u001b[39m=\u001b[39m vis_image\n\u001b[1;32m--> 126\u001b[0m response \u001b[39m=\u001b[39m data\u001b[39m.\u001b[39;49mgetMapId(request)\n\u001b[0;32m    127\u001b[0m response[\u001b[39m'\u001b[39m\u001b[39mimage\u001b[39m\u001b[39m'\u001b[39m] \u001b[39m=\u001b[39m \u001b[39mself\u001b[39m\n\u001b[0;32m    128\u001b[0m \u001b[39mreturn\u001b[39;00m response\n",
      "File \u001b[1;32mc:\\Users\\jtrum\\miniconda3\\envs\\wash_scan\\lib\\site-packages\\ee\\data.py:662\u001b[0m, in \u001b[0;36mgetMapId\u001b[1;34m(params)\u001b[0m\n\u001b[0;32m    657\u001b[0m queryParams \u001b[39m=\u001b[39m {\n\u001b[0;32m    658\u001b[0m     \u001b[39m'\u001b[39m\u001b[39mfields\u001b[39m\u001b[39m'\u001b[39m: \u001b[39m'\u001b[39m\u001b[39mname\u001b[39m\u001b[39m'\u001b[39m,\n\u001b[0;32m    659\u001b[0m     \u001b[39m'\u001b[39m\u001b[39mbody\u001b[39m\u001b[39m'\u001b[39m: request,\n\u001b[0;32m    660\u001b[0m }\n\u001b[0;32m    661\u001b[0m _maybe_populate_workload_tag(queryParams)\n\u001b[1;32m--> 662\u001b[0m result \u001b[39m=\u001b[39m _execute_cloud_call(\n\u001b[0;32m    663\u001b[0m     _get_cloud_projects()\n\u001b[0;32m    664\u001b[0m     \u001b[39m.\u001b[39;49mmaps()\n\u001b[0;32m    665\u001b[0m     \u001b[39m.\u001b[39;49mcreate(parent\u001b[39m=\u001b[39;49m_get_projects_path(), \u001b[39m*\u001b[39;49m\u001b[39m*\u001b[39;49mqueryParams)\n\u001b[0;32m    666\u001b[0m )\n\u001b[0;32m    667\u001b[0m map_name \u001b[39m=\u001b[39m result[\u001b[39m'\u001b[39m\u001b[39mname\u001b[39m\u001b[39m'\u001b[39m]\n\u001b[0;32m    668\u001b[0m url_format \u001b[39m=\u001b[39m \u001b[39m'\u001b[39m\u001b[39m%s\u001b[39;00m\u001b[39m/\u001b[39m\u001b[39m%s\u001b[39;00m\u001b[39m/\u001b[39m\u001b[39m%s\u001b[39;00m\u001b[39m/tiles/\u001b[39m\u001b[39m{z}\u001b[39;00m\u001b[39m/\u001b[39m\u001b[39m{x}\u001b[39;00m\u001b[39m/\u001b[39m\u001b[39m{y}\u001b[39;00m\u001b[39m'\u001b[39m \u001b[39m%\u001b[39m (\n\u001b[0;32m    669\u001b[0m     _tile_base_url, _cloud_api_utils\u001b[39m.\u001b[39mVERSION, map_name)\n",
      "File \u001b[1;32mc:\\Users\\jtrum\\miniconda3\\envs\\wash_scan\\lib\\site-packages\\ee\\data.py:354\u001b[0m, in \u001b[0;36m_execute_cloud_call\u001b[1;34m(call, num_retries)\u001b[0m\n\u001b[0;32m    352\u001b[0m   \u001b[39mreturn\u001b[39;00m call\u001b[39m.\u001b[39mexecute(num_retries\u001b[39m=\u001b[39mnum_retries)\n\u001b[0;32m    353\u001b[0m \u001b[39mexcept\u001b[39;00m googleapiclient\u001b[39m.\u001b[39merrors\u001b[39m.\u001b[39mHttpError \u001b[39mas\u001b[39;00m e:\n\u001b[1;32m--> 354\u001b[0m   \u001b[39mraise\u001b[39;00m _translate_cloud_exception(e)\n",
      "\u001b[1;31mEEException\u001b[0m: Image.select: Pattern 'NDVI' did not match any bands."
     ]
    }
   ],
   "source": [
    "import ee\n",
    "import geopandas as gpd\n",
    "import geemap\n",
    "\n",
    "# Define the path to your GeoJSON file\n",
    "datadir = 'C:/Users/jtrum/world_bank/data/'\n",
    "aoi_path = datadir + 'luanda2clean.geojson'\n",
    "\n",
    "# Load the GeoJSON file locally using geopandas\n",
    "aoi_gdf = gpd.read_file(aoi_path)\n",
    "\n",
    "# Convert the geopandas GeoDataFrame to a FeatureCollection for Earth Engine\n",
    "aoi = ee.FeatureCollection(aoi_gdf.__geo_interface__)\n",
    "\n",
    "# Rest of your code remains the same\n",
    "sentinel = ee.ImageCollection('COPERNICUS/S2_SR_HARMONIZED')\\\n",
    "    .filterBounds(aoi)\\\n",
    "    .filterDate('2019-01-01', '2019-12-31')\\\n",
    "    .filterMetadata('CLOUDY_PIXEL_PERCENTAGE', 'less_than', 10)\\\n",
    "    .first()\\\n",
    "    .multiply(0.0001)\n",
    "\n",
    "idx = spyndex.computeIndex(index=['VARI', 'NDWI', 'NDVI'], \n",
    "                           params={\"R\": sentinel.select(\"B4\"),\n",
    "                                   \"N\": sentinel.select(\"B8\"),\n",
    "                                   \"G\": sentinel.select(\"B3\"),\n",
    "                                   \"B\": sentinel.select(\"B2\")\n",
    "                                   })\n",
    "\n",
    "img = sentinel.addBands(idx)\n",
    "\n",
    "Map = geemap.Map()\n",
    "Map.centerObject(img, 10)\n",
    "Map.addLayer(img.select('NDVI'), {\"min\": -1, \"max\": 1, \"palette\": ['red', 'white', 'blue']}, \"NDVI\")\n",
    "Map.addLayer(img.select('NDWI'), {\"min\": -1, \"max\": 1, \"palette\": ['red', 'white', 'blue']}, \"NDWI\")\n",
    "Map.addLayer(img.select('VARI'), {\"min\": -1, \"max\": 1, \"palette\": ['red', 'white', 'blue']}, \"VARI\")\n",
    "Map\n"
   ]
  }
 ],
 "metadata": {
  "kernelspec": {
   "display_name": "wash_scan",
   "language": "python",
   "name": "python3"
  },
  "language_info": {
   "codemirror_mode": {
    "name": "ipython",
    "version": 3
   },
   "file_extension": ".py",
   "mimetype": "text/x-python",
   "name": "python",
   "nbconvert_exporter": "python",
   "pygments_lexer": "ipython3",
   "version": "3.8.17"
  },
  "orig_nbformat": 4
 },
 "nbformat": 4,
 "nbformat_minor": 2
}
