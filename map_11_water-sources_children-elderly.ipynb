{
 "cells": [
  {
   "cell_type": "code",
   "execution_count": 4,
   "metadata": {},
   "outputs": [],
   "source": [
    "''' \n",
    "Access to improved water sources with children and elderly overlay\n",
    "'''\n",
    "import os\n",
    "import rioxarray as rxr\n",
    "import geopandas as gpd\n",
    "import pandas as pd\n",
    "import holoviews as hv\n",
    "import hvplot.pandas\n",
    "import hvplot.xarray\n",
    "import matplotlib.pyplot as plt\n",
    "import contextily as ctx\n",
    "import rasterio\n",
    "from rasterio.plot import show\n",
    "import rasterio.mask\n",
    "import matplotlib.pyplot as plt\n",
    "\n",
    "os.chdir(r'C:/Users/jtrum/world_bank/data/')"
   ]
  },
  {
   "cell_type": "code",
   "execution_count": 5,
   "metadata": {},
   "outputs": [],
   "source": [
    "'''\n",
    "aoi = area of interest\n",
    "hdsl = high resolution population density of children under 5\n",
    "ihme = mean percent of population with access to improved water source\n",
    "'''\n",
    "aoi = gpd.read_file('aoiLuanda.geojson')\n",
    "hdsl = rxr.open_rasterio('ago_children_under_five_2020.tif')\n",
    "ihme = rxr.open_rasterio('IHME_LMIC_WASH_2000_2017_W_IMP_PERCENT_MEAN_2017_Y2020M06D02.TIF')\n",
    "aoi_bound = aoi.geometry\n",
    "hdsl_clip = hdsl.rio.clip(aoi_bound)\n",
    "ihme_clip = ihme.rio.clip(aoi_bound)"
   ]
  },
  {
   "cell_type": "code",
   "execution_count": 6,
   "metadata": {},
   "outputs": [
    {
     "name": "stdout",
     "output_type": "stream",
     "text": [
      "<class 'xarray.core.dataarray.DataArray'>\n",
      "<class 'xarray.core.dataarray.DataArray'>\n",
      "<class 'geopandas.geodataframe.GeoDataFrame'>\n"
     ]
    }
   ],
   "source": [
    "print(type(hdsl_clip))\n",
    "print(type(ihme_clip))\n",
    "print(type(aoi))\n"
   ]
  },
  {
   "cell_type": "code",
   "execution_count": 21,
   "metadata": {},
   "outputs": [],
   "source": [
    "hdsl_clip2 = hdsl_clip.squeeze()\n",
    "hdsl_df = hdsl_clip2.to_dataframe(name='percent')\n",
    "hdsl_df = hdsl_df['percent'].dropna()\n",
    "ihme_clip2 = ihme_clip.squeeze()\n",
    "ihme_df = ihme_clip2.to_dataframe(name='percent')\n",
    "ihme_df = ihme_df[ihme_df.percent != -999999.0]"
   ]
  },
  {
   "cell_type": "code",
   "execution_count": 22,
   "metadata": {},
   "outputs": [],
   "source": [
    "hdsl_df = hdsl_df.reset_index()\n",
    "hdsl_df = hdsl_df.rename(columns={'x':'lon', 'y':'lat'})\n",
    "hdsl_gdf = gpd.GeoDataFrame(hdsl_df, geometry=gpd.points_from_xy(hdsl_df.lon, hdsl_df.lat))"
   ]
  },
  {
   "cell_type": "code",
   "execution_count": 23,
   "metadata": {},
   "outputs": [],
   "source": [
    "ihme_df =ihme_df.reset_index()\n"
   ]
  },
  {
   "cell_type": "code",
   "execution_count": 24,
   "metadata": {},
   "outputs": [
    {
     "data": {
      "text/html": [
       "<div>\n",
       "<style scoped>\n",
       "    .dataframe tbody tr th:only-of-type {\n",
       "        vertical-align: middle;\n",
       "    }\n",
       "\n",
       "    .dataframe tbody tr th {\n",
       "        vertical-align: top;\n",
       "    }\n",
       "\n",
       "    .dataframe thead th {\n",
       "        text-align: right;\n",
       "    }\n",
       "</style>\n",
       "<table border=\"1\" class=\"dataframe\">\n",
       "  <thead>\n",
       "    <tr style=\"text-align: right;\">\n",
       "      <th></th>\n",
       "      <th>y</th>\n",
       "      <th>x</th>\n",
       "      <th>band</th>\n",
       "      <th>spatial_ref</th>\n",
       "      <th>percent</th>\n",
       "    </tr>\n",
       "  </thead>\n",
       "  <tbody>\n",
       "    <tr>\n",
       "      <th>0</th>\n",
       "      <td>-8.687501</td>\n",
       "      <td>13.437516</td>\n",
       "      <td>1</td>\n",
       "      <td>0</td>\n",
       "      <td>99.396202</td>\n",
       "    </tr>\n",
       "    <tr>\n",
       "      <th>1</th>\n",
       "      <td>-8.687501</td>\n",
       "      <td>13.479183</td>\n",
       "      <td>1</td>\n",
       "      <td>0</td>\n",
       "      <td>99.813766</td>\n",
       "    </tr>\n",
       "    <tr>\n",
       "      <th>2</th>\n",
       "      <td>-8.687501</td>\n",
       "      <td>13.520849</td>\n",
       "      <td>1</td>\n",
       "      <td>0</td>\n",
       "      <td>96.345879</td>\n",
       "    </tr>\n",
       "    <tr>\n",
       "      <th>3</th>\n",
       "      <td>-8.729168</td>\n",
       "      <td>13.437516</td>\n",
       "      <td>1</td>\n",
       "      <td>0</td>\n",
       "      <td>99.989731</td>\n",
       "    </tr>\n",
       "    <tr>\n",
       "      <th>4</th>\n",
       "      <td>-8.729168</td>\n",
       "      <td>13.479183</td>\n",
       "      <td>1</td>\n",
       "      <td>0</td>\n",
       "      <td>99.981781</td>\n",
       "    </tr>\n",
       "    <tr>\n",
       "      <th>...</th>\n",
       "      <td>...</td>\n",
       "      <td>...</td>\n",
       "      <td>...</td>\n",
       "      <td>...</td>\n",
       "      <td>...</td>\n",
       "    </tr>\n",
       "    <tr>\n",
       "      <th>111</th>\n",
       "      <td>-9.229168</td>\n",
       "      <td>13.187516</td>\n",
       "      <td>1</td>\n",
       "      <td>0</td>\n",
       "      <td>33.793404</td>\n",
       "    </tr>\n",
       "    <tr>\n",
       "      <th>112</th>\n",
       "      <td>-9.270834</td>\n",
       "      <td>13.145849</td>\n",
       "      <td>1</td>\n",
       "      <td>0</td>\n",
       "      <td>36.304882</td>\n",
       "    </tr>\n",
       "    <tr>\n",
       "      <th>113</th>\n",
       "      <td>-9.270834</td>\n",
       "      <td>13.187516</td>\n",
       "      <td>1</td>\n",
       "      <td>0</td>\n",
       "      <td>36.074020</td>\n",
       "    </tr>\n",
       "    <tr>\n",
       "      <th>114</th>\n",
       "      <td>-9.312501</td>\n",
       "      <td>13.145849</td>\n",
       "      <td>1</td>\n",
       "      <td>0</td>\n",
       "      <td>37.536205</td>\n",
       "    </tr>\n",
       "    <tr>\n",
       "      <th>115</th>\n",
       "      <td>-9.312501</td>\n",
       "      <td>13.187516</td>\n",
       "      <td>1</td>\n",
       "      <td>0</td>\n",
       "      <td>33.094032</td>\n",
       "    </tr>\n",
       "  </tbody>\n",
       "</table>\n",
       "<p>116 rows × 5 columns</p>\n",
       "</div>"
      ],
      "text/plain": [
       "            y          x  band  spatial_ref    percent\n",
       "0   -8.687501  13.437516     1            0  99.396202\n",
       "1   -8.687501  13.479183     1            0  99.813766\n",
       "2   -8.687501  13.520849     1            0  96.345879\n",
       "3   -8.729168  13.437516     1            0  99.989731\n",
       "4   -8.729168  13.479183     1            0  99.981781\n",
       "..        ...        ...   ...          ...        ...\n",
       "111 -9.229168  13.187516     1            0  33.793404\n",
       "112 -9.270834  13.145849     1            0  36.304882\n",
       "113 -9.270834  13.187516     1            0  36.074020\n",
       "114 -9.312501  13.145849     1            0  37.536205\n",
       "115 -9.312501  13.187516     1            0  33.094032\n",
       "\n",
       "[116 rows x 5 columns]"
      ]
     },
     "execution_count": 24,
     "metadata": {},
     "output_type": "execute_result"
    }
   ],
   "source": [
    "ihme_df"
   ]
  },
  {
   "cell_type": "code",
   "execution_count": 25,
   "metadata": {},
   "outputs": [],
   "source": [
    "ihme_df = ihme_df.rename(columns={'x':'lon', 'y':'lat'})"
   ]
  },
  {
   "cell_type": "code",
   "execution_count": 26,
   "metadata": {},
   "outputs": [
    {
     "ename": "InvalidIndexError",
     "evalue": "(0      13.437516\n1      13.479183\n2      13.520849\n3      13.437516\n4      13.479183\n         ...    \n111    13.187516\n112    13.145849\n113    13.187516\n114    13.145849\n115    13.187516\nName: lon, Length: 116, dtype: float64, 0     -8.687501\n1     -8.687501\n2     -8.687501\n3     -8.729168\n4     -8.729168\n         ...   \n111   -9.229168\n112   -9.270834\n113   -9.270834\n114   -9.312501\n115   -9.312501\nName: lat, Length: 116, dtype: float64)",
     "output_type": "error",
     "traceback": [
      "\u001b[1;31m---------------------------------------------------------------------------\u001b[0m",
      "\u001b[1;31mTypeError\u001b[0m                                 Traceback (most recent call last)",
      "File \u001b[1;32mc:\\Users\\jtrum\\miniconda3\\envs\\wash\\lib\\site-packages\\pandas\\core\\indexes\\base.py:3653\u001b[0m, in \u001b[0;36mIndex.get_loc\u001b[1;34m(self, key)\u001b[0m\n\u001b[0;32m   3652\u001b[0m \u001b[39mtry\u001b[39;00m:\n\u001b[1;32m-> 3653\u001b[0m     \u001b[39mreturn\u001b[39;00m \u001b[39mself\u001b[39;49m\u001b[39m.\u001b[39;49m_engine\u001b[39m.\u001b[39;49mget_loc(casted_key)\n\u001b[0;32m   3654\u001b[0m \u001b[39mexcept\u001b[39;00m \u001b[39mKeyError\u001b[39;00m \u001b[39mas\u001b[39;00m err:\n",
      "File \u001b[1;32mc:\\Users\\jtrum\\miniconda3\\envs\\wash\\lib\\site-packages\\pandas\\_libs\\index.pyx:147\u001b[0m, in \u001b[0;36mpandas._libs.index.IndexEngine.get_loc\u001b[1;34m()\u001b[0m\n",
      "File \u001b[1;32mc:\\Users\\jtrum\\miniconda3\\envs\\wash\\lib\\site-packages\\pandas\\_libs\\index.pyx:153\u001b[0m, in \u001b[0;36mpandas._libs.index.IndexEngine.get_loc\u001b[1;34m()\u001b[0m\n",
      "\u001b[1;31mTypeError\u001b[0m: '(0      13.437516\n1      13.479183\n2      13.520849\n3      13.437516\n4      13.479183\n         ...    \n111    13.187516\n112    13.145849\n113    13.187516\n114    13.145849\n115    13.187516\nName: lon, Length: 116, dtype: float64, 0     -8.687501\n1     -8.687501\n2     -8.687501\n3     -8.729168\n4     -8.729168\n         ...   \n111   -9.229168\n112   -9.270834\n113   -9.270834\n114   -9.312501\n115   -9.312501\nName: lat, Length: 116, dtype: float64)' is an invalid key",
      "\nDuring handling of the above exception, another exception occurred:\n",
      "\u001b[1;31mInvalidIndexError\u001b[0m                         Traceback (most recent call last)",
      "\u001b[1;32mc:\\Users\\jtrum\\Desktop\\maps\\map_11_water-sources_children-elderly.ipynb Cell 9\u001b[0m line \u001b[0;36m1\n\u001b[1;32m----> <a href='vscode-notebook-cell:/c%3A/Users/jtrum/Desktop/maps/map_11_water-sources_children-elderly.ipynb#Y115sZmlsZQ%3D%3D?line=0'>1</a>\u001b[0m ihme_gdf \u001b[39m=\u001b[39m gpd\u001b[39m.\u001b[39;49mGeoDataFrame(ihme_df, geometry\u001b[39m=\u001b[39;49m(ihme_df\u001b[39m.\u001b[39;49mlon, ihme_df\u001b[39m.\u001b[39;49mlat))\n",
      "File \u001b[1;32mc:\\Users\\jtrum\\miniconda3\\envs\\wash\\lib\\site-packages\\geopandas\\geodataframe.py:191\u001b[0m, in \u001b[0;36mGeoDataFrame.__init__\u001b[1;34m(self, data, geometry, crs, *args, **kwargs)\u001b[0m\n\u001b[0;32m    183\u001b[0m     \u001b[39mif\u001b[39;00m (\n\u001b[0;32m    184\u001b[0m         \u001b[39mhasattr\u001b[39m(geometry, \u001b[39m\"\u001b[39m\u001b[39mcrs\u001b[39m\u001b[39m\"\u001b[39m)\n\u001b[0;32m    185\u001b[0m         \u001b[39mand\u001b[39;00m geometry\u001b[39m.\u001b[39mcrs\n\u001b[0;32m    186\u001b[0m         \u001b[39mand\u001b[39;00m crs\n\u001b[0;32m    187\u001b[0m         \u001b[39mand\u001b[39;00m \u001b[39mnot\u001b[39;00m geometry\u001b[39m.\u001b[39mcrs \u001b[39m==\u001b[39m crs\n\u001b[0;32m    188\u001b[0m     ):\n\u001b[0;32m    189\u001b[0m         \u001b[39mraise\u001b[39;00m \u001b[39mValueError\u001b[39;00m(crs_mismatch_error)\n\u001b[1;32m--> 191\u001b[0m     \u001b[39mself\u001b[39;49m\u001b[39m.\u001b[39;49mset_geometry(geometry, inplace\u001b[39m=\u001b[39;49m\u001b[39mTrue\u001b[39;49;00m, crs\u001b[39m=\u001b[39;49mcrs)\n\u001b[0;32m    193\u001b[0m \u001b[39mif\u001b[39;00m geometry \u001b[39mis\u001b[39;00m \u001b[39mNone\u001b[39;00m \u001b[39mand\u001b[39;00m crs:\n\u001b[0;32m    194\u001b[0m     \u001b[39mraise\u001b[39;00m \u001b[39mValueError\u001b[39;00m(\n\u001b[0;32m    195\u001b[0m         \u001b[39m\"\u001b[39m\u001b[39mAssigning CRS to a GeoDataFrame without a geometry column is not \u001b[39m\u001b[39m\"\u001b[39m\n\u001b[0;32m    196\u001b[0m         \u001b[39m\"\u001b[39m\u001b[39msupported. Supply geometry using the \u001b[39m\u001b[39m'\u001b[39m\u001b[39mgeometry=\u001b[39m\u001b[39m'\u001b[39m\u001b[39m keyword argument, \u001b[39m\u001b[39m\"\u001b[39m\n\u001b[0;32m    197\u001b[0m         \u001b[39m\"\u001b[39m\u001b[39mor by providing a DataFrame with column name \u001b[39m\u001b[39m'\u001b[39m\u001b[39mgeometry\u001b[39m\u001b[39m'\u001b[39m\u001b[39m\"\u001b[39m,\n\u001b[0;32m    198\u001b[0m     )\n",
      "File \u001b[1;32mc:\\Users\\jtrum\\miniconda3\\envs\\wash\\lib\\site-packages\\geopandas\\geodataframe.py:320\u001b[0m, in \u001b[0;36mGeoDataFrame.set_geometry\u001b[1;34m(self, col, drop, inplace, crs)\u001b[0m\n\u001b[0;32m    318\u001b[0m \u001b[39melse\u001b[39;00m:\n\u001b[0;32m    319\u001b[0m     \u001b[39mtry\u001b[39;00m:\n\u001b[1;32m--> 320\u001b[0m         level \u001b[39m=\u001b[39m frame[col]\n\u001b[0;32m    321\u001b[0m     \u001b[39mexcept\u001b[39;00m \u001b[39mKeyError\u001b[39;00m:\n\u001b[0;32m    322\u001b[0m         \u001b[39mraise\u001b[39;00m \u001b[39mValueError\u001b[39;00m(\u001b[39m\"\u001b[39m\u001b[39mUnknown column \u001b[39m\u001b[39m%s\u001b[39;00m\u001b[39m\"\u001b[39m \u001b[39m%\u001b[39m col)\n",
      "File \u001b[1;32mc:\\Users\\jtrum\\miniconda3\\envs\\wash\\lib\\site-packages\\geopandas\\geodataframe.py:1475\u001b[0m, in \u001b[0;36mGeoDataFrame.__getitem__\u001b[1;34m(self, key)\u001b[0m\n\u001b[0;32m   1469\u001b[0m \u001b[39mdef\u001b[39;00m \u001b[39m__getitem__\u001b[39m(\u001b[39mself\u001b[39m, key):\n\u001b[0;32m   1470\u001b[0m \u001b[39m    \u001b[39m\u001b[39m\"\"\"\u001b[39;00m\n\u001b[0;32m   1471\u001b[0m \u001b[39m    If the result is a column containing only 'geometry', return a\u001b[39;00m\n\u001b[0;32m   1472\u001b[0m \u001b[39m    GeoSeries. If it's a DataFrame with any columns of GeometryDtype,\u001b[39;00m\n\u001b[0;32m   1473\u001b[0m \u001b[39m    return a GeoDataFrame.\u001b[39;00m\n\u001b[0;32m   1474\u001b[0m \u001b[39m    \"\"\"\u001b[39;00m\n\u001b[1;32m-> 1475\u001b[0m     result \u001b[39m=\u001b[39m \u001b[39msuper\u001b[39;49m()\u001b[39m.\u001b[39;49m\u001b[39m__getitem__\u001b[39;49m(key)\n\u001b[0;32m   1476\u001b[0m     \u001b[39m# Custom logic to avoid waiting for pandas GH51895\u001b[39;00m\n\u001b[0;32m   1477\u001b[0m     \u001b[39m# result is not geometry dtype for multi-indexes\u001b[39;00m\n\u001b[0;32m   1478\u001b[0m     \u001b[39mif\u001b[39;00m (\n\u001b[0;32m   1479\u001b[0m         pd\u001b[39m.\u001b[39mapi\u001b[39m.\u001b[39mtypes\u001b[39m.\u001b[39mis_scalar(key)\n\u001b[0;32m   1480\u001b[0m         \u001b[39mand\u001b[39;00m key \u001b[39m==\u001b[39m \u001b[39m\"\u001b[39m\u001b[39m\"\u001b[39m\n\u001b[1;32m   (...)\u001b[0m\n\u001b[0;32m   1483\u001b[0m         \u001b[39mand\u001b[39;00m \u001b[39mnot\u001b[39;00m is_geometry_type(result)\n\u001b[0;32m   1484\u001b[0m     ):\n",
      "File \u001b[1;32mc:\\Users\\jtrum\\miniconda3\\envs\\wash\\lib\\site-packages\\pandas\\core\\frame.py:3761\u001b[0m, in \u001b[0;36mDataFrame.__getitem__\u001b[1;34m(self, key)\u001b[0m\n\u001b[0;32m   3759\u001b[0m \u001b[39mif\u001b[39;00m \u001b[39mself\u001b[39m\u001b[39m.\u001b[39mcolumns\u001b[39m.\u001b[39mnlevels \u001b[39m>\u001b[39m \u001b[39m1\u001b[39m:\n\u001b[0;32m   3760\u001b[0m     \u001b[39mreturn\u001b[39;00m \u001b[39mself\u001b[39m\u001b[39m.\u001b[39m_getitem_multilevel(key)\n\u001b[1;32m-> 3761\u001b[0m indexer \u001b[39m=\u001b[39m \u001b[39mself\u001b[39;49m\u001b[39m.\u001b[39;49mcolumns\u001b[39m.\u001b[39;49mget_loc(key)\n\u001b[0;32m   3762\u001b[0m \u001b[39mif\u001b[39;00m is_integer(indexer):\n\u001b[0;32m   3763\u001b[0m     indexer \u001b[39m=\u001b[39m [indexer]\n",
      "File \u001b[1;32mc:\\Users\\jtrum\\miniconda3\\envs\\wash\\lib\\site-packages\\pandas\\core\\indexes\\base.py:3660\u001b[0m, in \u001b[0;36mIndex.get_loc\u001b[1;34m(self, key)\u001b[0m\n\u001b[0;32m   3655\u001b[0m     \u001b[39mraise\u001b[39;00m \u001b[39mKeyError\u001b[39;00m(key) \u001b[39mfrom\u001b[39;00m \u001b[39merr\u001b[39;00m\n\u001b[0;32m   3656\u001b[0m \u001b[39mexcept\u001b[39;00m \u001b[39mTypeError\u001b[39;00m:\n\u001b[0;32m   3657\u001b[0m     \u001b[39m# If we have a listlike key, _check_indexing_error will raise\u001b[39;00m\n\u001b[0;32m   3658\u001b[0m     \u001b[39m#  InvalidIndexError. Otherwise we fall through and re-raise\u001b[39;00m\n\u001b[0;32m   3659\u001b[0m     \u001b[39m#  the TypeError.\u001b[39;00m\n\u001b[1;32m-> 3660\u001b[0m     \u001b[39mself\u001b[39;49m\u001b[39m.\u001b[39;49m_check_indexing_error(key)\n\u001b[0;32m   3661\u001b[0m     \u001b[39mraise\u001b[39;00m\n",
      "File \u001b[1;32mc:\\Users\\jtrum\\miniconda3\\envs\\wash\\lib\\site-packages\\pandas\\core\\indexes\\base.py:5737\u001b[0m, in \u001b[0;36mIndex._check_indexing_error\u001b[1;34m(self, key)\u001b[0m\n\u001b[0;32m   5733\u001b[0m \u001b[39mdef\u001b[39;00m \u001b[39m_check_indexing_error\u001b[39m(\u001b[39mself\u001b[39m, key):\n\u001b[0;32m   5734\u001b[0m     \u001b[39mif\u001b[39;00m \u001b[39mnot\u001b[39;00m is_scalar(key):\n\u001b[0;32m   5735\u001b[0m         \u001b[39m# if key is not a scalar, directly raise an error (the code below\u001b[39;00m\n\u001b[0;32m   5736\u001b[0m         \u001b[39m# would convert to numpy arrays and raise later any way) - GH29926\u001b[39;00m\n\u001b[1;32m-> 5737\u001b[0m         \u001b[39mraise\u001b[39;00m InvalidIndexError(key)\n",
      "\u001b[1;31mInvalidIndexError\u001b[0m: (0      13.437516\n1      13.479183\n2      13.520849\n3      13.437516\n4      13.479183\n         ...    \n111    13.187516\n112    13.145849\n113    13.187516\n114    13.145849\n115    13.187516\nName: lon, Length: 116, dtype: float64, 0     -8.687501\n1     -8.687501\n2     -8.687501\n3     -8.729168\n4     -8.729168\n         ...   \n111   -9.229168\n112   -9.270834\n113   -9.270834\n114   -9.312501\n115   -9.312501\nName: lat, Length: 116, dtype: float64)"
     ]
    }
   ],
   "source": [
    "ihme_gdf = gpd.GeoDataFrame(ihme_df, geometry=(ihme_df.lon, ihme_df.lat))"
   ]
  },
  {
   "cell_type": "code",
   "execution_count": 12,
   "metadata": {},
   "outputs": [
    {
     "data": {
      "text/html": [
       "<div>\n",
       "<style scoped>\n",
       "    .dataframe tbody tr th:only-of-type {\n",
       "        vertical-align: middle;\n",
       "    }\n",
       "\n",
       "    .dataframe tbody tr th {\n",
       "        vertical-align: top;\n",
       "    }\n",
       "\n",
       "    .dataframe thead th {\n",
       "        text-align: right;\n",
       "    }\n",
       "</style>\n",
       "<table border=\"1\" class=\"dataframe\">\n",
       "  <thead>\n",
       "    <tr style=\"text-align: right;\">\n",
       "      <th></th>\n",
       "      <th>lat</th>\n",
       "      <th>lon</th>\n",
       "      <th>band</th>\n",
       "      <th>spatial_ref</th>\n",
       "      <th>percent</th>\n",
       "      <th>geometry</th>\n",
       "    </tr>\n",
       "  </thead>\n",
       "  <tbody>\n",
       "    <tr>\n",
       "      <th>0</th>\n",
       "      <td>-8.687501</td>\n",
       "      <td>13.437516</td>\n",
       "      <td>1</td>\n",
       "      <td>0</td>\n",
       "      <td>99.396202</td>\n",
       "      <td>POINT (13.43752 -8.68750)</td>\n",
       "    </tr>\n",
       "    <tr>\n",
       "      <th>1</th>\n",
       "      <td>-8.687501</td>\n",
       "      <td>13.479183</td>\n",
       "      <td>1</td>\n",
       "      <td>0</td>\n",
       "      <td>99.813766</td>\n",
       "      <td>POINT (13.47918 -8.68750)</td>\n",
       "    </tr>\n",
       "    <tr>\n",
       "      <th>2</th>\n",
       "      <td>-8.687501</td>\n",
       "      <td>13.520849</td>\n",
       "      <td>1</td>\n",
       "      <td>0</td>\n",
       "      <td>96.345879</td>\n",
       "      <td>POINT (13.52085 -8.68750)</td>\n",
       "    </tr>\n",
       "    <tr>\n",
       "      <th>3</th>\n",
       "      <td>-8.729168</td>\n",
       "      <td>13.437516</td>\n",
       "      <td>1</td>\n",
       "      <td>0</td>\n",
       "      <td>99.989731</td>\n",
       "      <td>POINT (13.43752 -8.72917)</td>\n",
       "    </tr>\n",
       "    <tr>\n",
       "      <th>4</th>\n",
       "      <td>-8.729168</td>\n",
       "      <td>13.479183</td>\n",
       "      <td>1</td>\n",
       "      <td>0</td>\n",
       "      <td>99.981781</td>\n",
       "      <td>POINT (13.47918 -8.72917)</td>\n",
       "    </tr>\n",
       "    <tr>\n",
       "      <th>...</th>\n",
       "      <td>...</td>\n",
       "      <td>...</td>\n",
       "      <td>...</td>\n",
       "      <td>...</td>\n",
       "      <td>...</td>\n",
       "      <td>...</td>\n",
       "    </tr>\n",
       "    <tr>\n",
       "      <th>111</th>\n",
       "      <td>-9.229168</td>\n",
       "      <td>13.187516</td>\n",
       "      <td>1</td>\n",
       "      <td>0</td>\n",
       "      <td>33.793404</td>\n",
       "      <td>POINT (13.18752 -9.22917)</td>\n",
       "    </tr>\n",
       "    <tr>\n",
       "      <th>112</th>\n",
       "      <td>-9.270834</td>\n",
       "      <td>13.145849</td>\n",
       "      <td>1</td>\n",
       "      <td>0</td>\n",
       "      <td>36.304882</td>\n",
       "      <td>POINT (13.14585 -9.27083)</td>\n",
       "    </tr>\n",
       "    <tr>\n",
       "      <th>113</th>\n",
       "      <td>-9.270834</td>\n",
       "      <td>13.187516</td>\n",
       "      <td>1</td>\n",
       "      <td>0</td>\n",
       "      <td>36.074020</td>\n",
       "      <td>POINT (13.18752 -9.27083)</td>\n",
       "    </tr>\n",
       "    <tr>\n",
       "      <th>114</th>\n",
       "      <td>-9.312501</td>\n",
       "      <td>13.145849</td>\n",
       "      <td>1</td>\n",
       "      <td>0</td>\n",
       "      <td>37.536205</td>\n",
       "      <td>POINT (13.14585 -9.31250)</td>\n",
       "    </tr>\n",
       "    <tr>\n",
       "      <th>115</th>\n",
       "      <td>-9.312501</td>\n",
       "      <td>13.187516</td>\n",
       "      <td>1</td>\n",
       "      <td>0</td>\n",
       "      <td>33.094032</td>\n",
       "      <td>POINT (13.18752 -9.31250)</td>\n",
       "    </tr>\n",
       "  </tbody>\n",
       "</table>\n",
       "<p>116 rows × 6 columns</p>\n",
       "</div>"
      ],
      "text/plain": [
       "          lat        lon  band  spatial_ref    percent  \\\n",
       "0   -8.687501  13.437516     1            0  99.396202   \n",
       "1   -8.687501  13.479183     1            0  99.813766   \n",
       "2   -8.687501  13.520849     1            0  96.345879   \n",
       "3   -8.729168  13.437516     1            0  99.989731   \n",
       "4   -8.729168  13.479183     1            0  99.981781   \n",
       "..        ...        ...   ...          ...        ...   \n",
       "111 -9.229168  13.187516     1            0  33.793404   \n",
       "112 -9.270834  13.145849     1            0  36.304882   \n",
       "113 -9.270834  13.187516     1            0  36.074020   \n",
       "114 -9.312501  13.145849     1            0  37.536205   \n",
       "115 -9.312501  13.187516     1            0  33.094032   \n",
       "\n",
       "                      geometry  \n",
       "0    POINT (13.43752 -8.68750)  \n",
       "1    POINT (13.47918 -8.68750)  \n",
       "2    POINT (13.52085 -8.68750)  \n",
       "3    POINT (13.43752 -8.72917)  \n",
       "4    POINT (13.47918 -8.72917)  \n",
       "..                         ...  \n",
       "111  POINT (13.18752 -9.22917)  \n",
       "112  POINT (13.14585 -9.27083)  \n",
       "113  POINT (13.18752 -9.27083)  \n",
       "114  POINT (13.14585 -9.31250)  \n",
       "115  POINT (13.18752 -9.31250)  \n",
       "\n",
       "[116 rows x 6 columns]"
      ]
     },
     "execution_count": 12,
     "metadata": {},
     "output_type": "execute_result"
    }
   ],
   "source": [
    "ihme_gdf"
   ]
  },
  {
   "cell_type": "code",
   "execution_count": 13,
   "metadata": {},
   "outputs": [],
   "source": [
    "# Reproject the AOI to match the CRS of the raster datasets\n",
    "aoi = aoi.to_crs(hdsl.crs)\n",
    "\n",
    "# Get the geometry of the AOI\n",
    "aoi_geometry = aoi.geometry.values[0]\n"
   ]
  },
  {
   "cell_type": "code",
   "execution_count": 14,
   "metadata": {},
   "outputs": [],
   "source": [
    "# Clip the raster datasets to the AOI\n",
    "hdsl_clip, hdsl_transform = rasterio.mask.mask(hdsl, shapes=[aoi_geometry], crop=True)\n",
    "ihme_clip, ihme_transform = rasterio.mask.mask(ihme, shapes=[aoi_geometry], crop=True)"
   ]
  },
  {
   "cell_type": "code",
   "execution_count": 16,
   "metadata": {},
   "outputs": [],
   "source": [
    "hdsl_clip_dataset = rasterio.open(\n",
    "    'hdsl_clip.tif',\n",
    "    'w',\n",
    "    driver='GTiff',\n",
    "    height=hdsl_clip.shape[1],\n",
    "    width=hdsl_clip.shape[2],\n",
    "    count=1,\n",
    "    dtype=str(hdsl_clip.dtype),\n",
    "    crs=hdsl.crs,\n",
    "    transform=hdsl_transform,\n",
    ")\n",
    "hdsl_clip_dataset.write(hdsl_clip[0], 1)\n",
    "hdsl_clip_dataset.close()"
   ]
  },
  {
   "cell_type": "code",
   "execution_count": 17,
   "metadata": {},
   "outputs": [],
   "source": [
    "# Create a new GeoDataFrame for the clipped AOI\n",
    "aoi_clipped = gpd.GeoDataFrame({'geometry': [aoi_geometry]}, crs=hdsl.crs)"
   ]
  },
  {
   "cell_type": "code",
   "execution_count": 18,
   "metadata": {},
   "outputs": [],
   "source": [
    "# Manually set CRS for GeoDataFrame\n",
    "aoi_clipped = aoi_clipped.to_crs(epsg=3857)"
   ]
  },
  {
   "cell_type": "code",
   "execution_count": 21,
   "metadata": {},
   "outputs": [
    {
     "ename": "CRSError",
     "evalue": "The WKT could not be parsed. OGR Error code 6",
     "output_type": "error",
     "traceback": [
      "\u001b[1;31m---------------------------------------------------------------------------\u001b[0m",
      "\u001b[1;31mCPLE_BaseError\u001b[0m                            Traceback (most recent call last)",
      "File \u001b[1;32mrasterio\\\\crs.pyx:775\u001b[0m, in \u001b[0;36mrasterio.crs.CRS.from_user_input\u001b[1;34m()\u001b[0m\n",
      "File \u001b[1;32mrasterio\\\\_err.pyx:209\u001b[0m, in \u001b[0;36mrasterio._err.exc_wrap_ogrerr\u001b[1;34m()\u001b[0m\n",
      "\u001b[1;31mCPLE_BaseError\u001b[0m: OGR Error code 6",
      "\nDuring handling of the above exception, another exception occurred:\n",
      "\u001b[1;31mCRSError\u001b[0m                                  Traceback (most recent call last)",
      "\u001b[1;32mc:\\Users\\jtrum\\Desktop\\maps\\map_11_water-sources_children-elderly.ipynb Cell 11\u001b[0m line \u001b[0;36m5\n\u001b[0;32m      <a href='vscode-notebook-cell:/c%3A/Users/jtrum/Desktop/maps/map_11_water-sources_children-elderly.ipynb#X42sZmlsZQ%3D%3D?line=0'>1</a>\u001b[0m ax \u001b[39m=\u001b[39m aoi\u001b[39m.\u001b[39mplot(facecolor\u001b[39m=\u001b[39m\u001b[39m\"\u001b[39m\u001b[39mnone\u001b[39m\u001b[39m\"\u001b[39m,\n\u001b[0;32m      <a href='vscode-notebook-cell:/c%3A/Users/jtrum/Desktop/maps/map_11_water-sources_children-elderly.ipynb#X42sZmlsZQ%3D%3D?line=1'>2</a>\u001b[0m                    edgecolor\u001b[39m=\u001b[39m\u001b[39m\"\u001b[39m\u001b[39mred\u001b[39m\u001b[39m\"\u001b[39m,\n\u001b[0;32m      <a href='vscode-notebook-cell:/c%3A/Users/jtrum/Desktop/maps/map_11_water-sources_children-elderly.ipynb#X42sZmlsZQ%3D%3D?line=2'>3</a>\u001b[0m                    linewidth\u001b[39m=\u001b[39m\u001b[39m2\u001b[39m\n\u001b[0;32m      <a href='vscode-notebook-cell:/c%3A/Users/jtrum/Desktop/maps/map_11_water-sources_children-elderly.ipynb#X42sZmlsZQ%3D%3D?line=3'>4</a>\u001b[0m                   )\n\u001b[1;32m----> <a href='vscode-notebook-cell:/c%3A/Users/jtrum/Desktop/maps/map_11_water-sources_children-elderly.ipynb#X42sZmlsZQ%3D%3D?line=4'>5</a>\u001b[0m ctx\u001b[39m.\u001b[39;49madd_basemap(ax,\n\u001b[0;32m      <a href='vscode-notebook-cell:/c%3A/Users/jtrum/Desktop/maps/map_11_water-sources_children-elderly.ipynb#X42sZmlsZQ%3D%3D?line=5'>6</a>\u001b[0m                crs\u001b[39m=\u001b[39;49maoi\u001b[39m.\u001b[39;49mcrs\u001b[39m.\u001b[39;49mto_string(),\n\u001b[0;32m      <a href='vscode-notebook-cell:/c%3A/Users/jtrum/Desktop/maps/map_11_water-sources_children-elderly.ipynb#X42sZmlsZQ%3D%3D?line=6'>7</a>\u001b[0m                source\u001b[39m=\u001b[39;49mctx\u001b[39m.\u001b[39;49mproviders\u001b[39m.\u001b[39;49mCartoDB\u001b[39m.\u001b[39;49mVoyager\n\u001b[0;32m      <a href='vscode-notebook-cell:/c%3A/Users/jtrum/Desktop/maps/map_11_water-sources_children-elderly.ipynb#X42sZmlsZQ%3D%3D?line=7'>8</a>\u001b[0m               )\n",
      "File \u001b[1;32mc:\\Users\\jtrum\\miniconda3\\envs\\wash\\lib\\site-packages\\contextily\\plotting.py:125\u001b[0m, in \u001b[0;36madd_basemap\u001b[1;34m(ax, zoom, source, interpolation, attribution, attribution_size, reset_extent, crs, resampling, **extra_imshow_args)\u001b[0m\n\u001b[0;32m    123\u001b[0m \u001b[39m# Convert extent from `crs` into WM for tile query\u001b[39;00m\n\u001b[0;32m    124\u001b[0m \u001b[39mif\u001b[39;00m crs \u001b[39mis\u001b[39;00m \u001b[39mnot\u001b[39;00m \u001b[39mNone\u001b[39;00m:\n\u001b[1;32m--> 125\u001b[0m     left, right, bottom, top \u001b[39m=\u001b[39m _reproj_bb(\n\u001b[0;32m    126\u001b[0m         left, right, bottom, top, crs, \u001b[39m\"\u001b[39;49m\u001b[39mepsg:3857\u001b[39;49m\u001b[39m\"\u001b[39;49m\n\u001b[0;32m    127\u001b[0m     )\n\u001b[0;32m    128\u001b[0m \u001b[39m# Download image\u001b[39;00m\n\u001b[0;32m    129\u001b[0m image, extent \u001b[39m=\u001b[39m bounds2img(\n\u001b[0;32m    130\u001b[0m     left, bottom, right, top, zoom\u001b[39m=\u001b[39mzoom, source\u001b[39m=\u001b[39msource, ll\u001b[39m=\u001b[39m\u001b[39mFalse\u001b[39;00m\n\u001b[0;32m    131\u001b[0m )\n",
      "File \u001b[1;32mc:\\Users\\jtrum\\miniconda3\\envs\\wash\\lib\\site-packages\\contextily\\plotting.py:215\u001b[0m, in \u001b[0;36m_reproj_bb\u001b[1;34m(left, right, bottom, top, s_crs, t_crs)\u001b[0m\n\u001b[0;32m    214\u001b[0m \u001b[39mdef\u001b[39;00m \u001b[39m_reproj_bb\u001b[39m(left, right, bottom, top, s_crs, t_crs):\n\u001b[1;32m--> 215\u001b[0m     n_l, n_b, n_r, n_t \u001b[39m=\u001b[39m transform_bounds(s_crs, t_crs, left, bottom, right, top)\n\u001b[0;32m    216\u001b[0m     \u001b[39mreturn\u001b[39;00m n_l, n_r, n_b, n_t\n",
      "File \u001b[1;32mc:\\Users\\jtrum\\miniconda3\\envs\\wash\\lib\\site-packages\\rasterio\\warp.py:147\u001b[0m, in \u001b[0;36mtransform_bounds\u001b[1;34m(src_crs, dst_crs, left, bottom, right, top, densify_pts)\u001b[0m\n\u001b[0;32m    113\u001b[0m \u001b[39mdef\u001b[39;00m \u001b[39mtransform_bounds\u001b[39m(\n\u001b[0;32m    114\u001b[0m         src_crs,\n\u001b[0;32m    115\u001b[0m         dst_crs,\n\u001b[1;32m   (...)\u001b[0m\n\u001b[0;32m    119\u001b[0m         top,\n\u001b[0;32m    120\u001b[0m         densify_pts\u001b[39m=\u001b[39m\u001b[39m21\u001b[39m):\n\u001b[0;32m    121\u001b[0m \u001b[39m    \u001b[39m\u001b[39m\"\"\"Transform bounds from src_crs to dst_crs.\u001b[39;00m\n\u001b[0;32m    122\u001b[0m \n\u001b[0;32m    123\u001b[0m \u001b[39m    Optionally densifying the edges (to account for nonlinear transformations\u001b[39;00m\n\u001b[1;32m   (...)\u001b[0m\n\u001b[0;32m    145\u001b[0m \u001b[39m        Outermost coordinates in target coordinate reference system.\u001b[39;00m\n\u001b[0;32m    146\u001b[0m \u001b[39m    \"\"\"\u001b[39;00m\n\u001b[1;32m--> 147\u001b[0m     src_crs \u001b[39m=\u001b[39m CRS\u001b[39m.\u001b[39;49mfrom_user_input(src_crs)\n\u001b[0;32m    148\u001b[0m     dst_crs \u001b[39m=\u001b[39m CRS\u001b[39m.\u001b[39mfrom_user_input(dst_crs)\n\u001b[0;32m    149\u001b[0m     \u001b[39mreturn\u001b[39;00m _transform_bounds(\n\u001b[0;32m    150\u001b[0m         src_crs,\n\u001b[0;32m    151\u001b[0m         dst_crs,\n\u001b[1;32m   (...)\u001b[0m\n\u001b[0;32m    156\u001b[0m         densify_pts,\n\u001b[0;32m    157\u001b[0m     )\n",
      "File \u001b[1;32mrasterio\\\\crs.pyx:777\u001b[0m, in \u001b[0;36mrasterio.crs.CRS.from_user_input\u001b[1;34m()\u001b[0m\n",
      "\u001b[1;31mCRSError\u001b[0m: The WKT could not be parsed. OGR Error code 6"
     ]
    },
    {
     "data": {
      "image/png": "[encoded data removed]",
      "text/plain": [
       "<Figure size 640x480 with 1 Axes>"
      ]
     },
     "metadata": {},
     "output_type": "display_data"
    }
   ],
   "source": [
    "ax = aoi.plot(facecolor=\"none\",\n",
    "                   edgecolor=\"red\",\n",
    "                   linewidth=2\n",
    "                  )\n",
    "ctx.add_basemap(ax,\n",
    "               crs=aoi.crs.to_string(),\n",
    "               source=ctx.providers.CartoDB.Voyager\n",
    "              )"
   ]
  },
  {
   "cell_type": "code",
   "execution_count": null,
   "metadata": {},
   "outputs": [],
   "source": []
  }
 ],
 "metadata": {
  "kernelspec": {
   "display_name": "wash",
   "language": "python",
   "name": "python3"
  },
  "language_info": {
   "codemirror_mode": {
    "name": "ipython",
    "version": 3
   },
   "file_extension": ".py",
   "mimetype": "text/x-python",
   "name": "python",
   "nbconvert_exporter": "python",
   "pygments_lexer": "ipython3",
   "version": "3.8.18"
  }
 },
 "nbformat": 4,
 "nbformat_minor": 2
}
